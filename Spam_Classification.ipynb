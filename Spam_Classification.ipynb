{
  "nbformat": 4,
  "nbformat_minor": 0,
  "metadata": {
    "colab": {
      "name": "Spam Classification.ipynb",
      "version": "0.3.2",
      "provenance": [],
      "collapsed_sections": [],
      "toc_visible": true,
      "include_colab_link": true
    },
    "kernelspec": {
      "name": "python3",
      "display_name": "Python 3"
    }
  },
  "cells": [
    {
      "cell_type": "markdown",
      "metadata": {
        "id": "view-in-github",
        "colab_type": "text"
      },
      "source": [
        "<a href=\"https://colab.research.google.com/github/megz2020/boston_housing/blob/master/Spam_Classification.ipynb\" target=\"_parent\"><img src=\"https://colab.research.google.com/assets/colab-badge.svg\" alt=\"Open In Colab\"/></a>"
      ]
    },
    {
      "metadata": {
        "id": "oGnmiX3kBgAQ",
        "colab_type": "text"
      },
      "cell_type": "markdown",
      "source": [
        "# Project: Spam Classification\n",
        "\n",
        "## Getting Started\n",
        "In this project, you will employ several Machine learning algorithms  to accurately model classify messages as spam or not spam using a collection of 425 SMS spam messages was manually extracted from the Grumbletext Web site.\n",
        "\n",
        " The dataset for this project originates from the [UCI Machine Learning Repository](https://archive.ics.uci.edu/ml/datasets/sms+spam+collection#)\n",
        " The datset was donated by  Min-Yen Kan and his team "
      ]
    },
    {
      "metadata": {
        "id": "KGoQW0mk9X7I",
        "colab_type": "code",
        "colab": {
          "base_uri": "https://localhost:8080/",
          "height": 200
        },
        "outputId": "eb6eeb6a-db0d-411e-9370-1b03606c3c91"
      },
      "cell_type": "code",
      "source": [
        "# dawnload dataset\n",
        "!wget https://archive.ics.uci.edu/ml/machine-learning-databases/00228/smsspamcollection.zip"
      ],
      "execution_count": 4,
      "outputs": [
        {
          "output_type": "stream",
          "text": [
            "--2018-11-08 17:06:22--  https://archive.ics.uci.edu/ml/machine-learning-databases/00228/smsspamcollection.zip\n",
            "Resolving archive.ics.uci.edu (archive.ics.uci.edu)... 128.195.10.249\n",
            "Connecting to archive.ics.uci.edu (archive.ics.uci.edu)|128.195.10.249|:443... connected.\n",
            "HTTP request sent, awaiting response... 200 OK\n",
            "Length: 203415 (199K) [application/zip]\n",
            "Saving to: ‘smsspamcollection.zip.1’\n",
            "\n",
            "\rsmsspamcollection.z   0%[                    ]       0  --.-KB/s               \rsmsspamcollection.z  76%[==============>     ] 152.00K   754KB/s               \rsmsspamcollection.z 100%[===================>] 198.65K   983KB/s    in 0.2s    \n",
            "\n",
            "2018-11-08 17:06:22 (983 KB/s) - ‘smsspamcollection.zip.1’ saved [203415/203415]\n",
            "\n"
          ],
          "name": "stdout"
        }
      ]
    },
    {
      "metadata": {
        "id": "bEWdADd1_NTT",
        "colab_type": "code",
        "colab": {
          "base_uri": "https://localhost:8080/",
          "height": 100
        },
        "outputId": "03075e8f-9455-4886-b2ac-a6e662e797e1"
      },
      "cell_type": "code",
      "source": [
        "!unzip smsspamcollection.zip"
      ],
      "execution_count": 5,
      "outputs": [
        {
          "output_type": "stream",
          "text": [
            "Archive:  smsspamcollection.zip\n",
            "replace SMSSpamCollection? [y]es, [n]o, [A]ll, [N]one, [r]ename: y\n",
            "  inflating: SMSSpamCollection       \n",
            "replace readme? [y]es, [n]o, [A]ll, [N]one, [r]ename: A\n",
            "  inflating: readme                  \n"
          ],
          "name": "stdout"
        }
      ]
    },
    {
      "metadata": {
        "id": "ZyGoye6FEQT6",
        "colab_type": "text"
      },
      "cell_type": "markdown",
      "source": [
        "# Exploring the Data\n",
        "\n"
      ]
    },
    {
      "metadata": {
        "id": "DQeVAULXTDrZ",
        "colab_type": "code",
        "colab": {
          "base_uri": "https://localhost:8080/",
          "height": 170
        },
        "outputId": "65729c65-df79-4d67-a38b-dcab9965630b"
      },
      "cell_type": "code",
      "source": [
        "!python -m pip install wordcloud\n"
      ],
      "execution_count": 7,
      "outputs": [
        {
          "output_type": "stream",
          "text": [
            "Collecting wordcloud\n",
            "\u001b[?25l  Downloading https://files.pythonhosted.org/packages/ae/af/849edf14d573eba9c8082db898ff0d090428d9485371cc4fe21a66717ad2/wordcloud-1.5.0-cp36-cp36m-manylinux1_x86_64.whl (361kB)\n",
            "\r\u001b[K    2% |█                               | 10kB 16.9MB/s eta 0:00:01\r\u001b[K    5% |█▉                              | 20kB 2.7MB/s eta 0:00:01\r\u001b[K    8% |██▊                             | 30kB 3.1MB/s eta 0:00:01\r\u001b[K    11% |███▋                            | 40kB 2.9MB/s eta 0:00:01\r\u001b[K    14% |████▌                           | 51kB 3.2MB/s eta 0:00:01\r\u001b[K    17% |█████▍                          | 61kB 3.8MB/s eta 0:00:01\r\u001b[K    19% |██████▍                         | 71kB 4.0MB/s eta 0:00:01\r\u001b[K    22% |███████▎                        | 81kB 3.8MB/s eta 0:00:01\r\u001b[K    25% |████████▏                       | 92kB 4.2MB/s eta 0:00:01\r\u001b[K    28% |█████████                       | 102kB 4.3MB/s eta 0:00:01\r\u001b[K    31% |██████████                      | 112kB 4.3MB/s eta 0:00:01\r\u001b[K    34% |██████████▉                     | 122kB 5.5MB/s eta 0:00:01\r\u001b[K    36% |███████████▉                    | 133kB 5.1MB/s eta 0:00:01\r\u001b[K    39% |████████████▊                   | 143kB 6.4MB/s eta 0:00:01\r\u001b[K    42% |█████████████▋                  | 153kB 6.7MB/s eta 0:00:01\r\u001b[K    45% |██████████████▌                 | 163kB 6.0MB/s eta 0:00:01\r\u001b[K    48% |███████████████▍                | 174kB 6.6MB/s eta 0:00:01\r\u001b[K    51% |████████████████▎               | 184kB 7.0MB/s eta 0:00:01\r\u001b[K    53% |█████████████████▎              | 194kB 7.1MB/s eta 0:00:01\r\u001b[K    56% |██████████████████▏             | 204kB 6.9MB/s eta 0:00:01\r\u001b[K    59% |███████████████████             | 215kB 6.0MB/s eta 0:00:01\r\u001b[K    62% |████████████████████            | 225kB 6.6MB/s eta 0:00:01\r\u001b[K    65% |████████████████████▉           | 235kB 7.7MB/s eta 0:00:01\r\u001b[K    68% |█████████████████████▊          | 245kB 6.6MB/s eta 0:00:01\r\u001b[K    70% |██████████████████████▊         | 256kB 6.9MB/s eta 0:00:01\r\u001b[K    73% |███████████████████████▋        | 266kB 6.9MB/s eta 0:00:01\r\u001b[K    76% |████████████████████████▌       | 276kB 7.0MB/s eta 0:00:01\r\u001b[K    79% |█████████████████████████▍      | 286kB 7.0MB/s eta 0:00:01\r\u001b[K    82% |██████████████████████████▎     | 296kB 6.2MB/s eta 0:00:01\r\u001b[K    85% |███████████████████████████▏    | 307kB 7.1MB/s eta 0:00:01\r\u001b[K    87% |████████████████████████████▏   | 317kB 7.8MB/s eta 0:00:01\r\u001b[K    90% |█████████████████████████████   | 327kB 6.6MB/s eta 0:00:01\r\u001b[K    93% |██████████████████████████████  | 337kB 7.5MB/s eta 0:00:01\r\u001b[K    96% |██████████████████████████████▉ | 348kB 7.0MB/s eta 0:00:01\r\u001b[K    99% |███████████████████████████████▊| 358kB 7.0MB/s eta 0:00:01\r\u001b[K    100% |████████████████████████████████| 368kB 6.9MB/s \n",
            "\u001b[?25hRequirement already satisfied: numpy>=1.6.1 in /usr/local/lib/python3.6/dist-packages (from wordcloud) (1.14.6)\n",
            "Requirement already satisfied: pillow in /usr/local/lib/python3.6/dist-packages (from wordcloud) (4.0.0)\n",
            "Requirement already satisfied: olefile in /usr/local/lib/python3.6/dist-packages (from pillow->wordcloud) (0.46)\n",
            "Installing collected packages: wordcloud\n",
            "Successfully installed wordcloud-1.5.0\n"
          ],
          "name": "stdout"
        }
      ]
    },
    {
      "metadata": {
        "id": "2_uG4eFLEXSo",
        "colab_type": "code",
        "colab": {}
      },
      "cell_type": "code",
      "source": [
        "# Import libraries necessary for this project\n",
        "import numpy as np\n",
        "import pandas as pd\n",
        "from time import time\n",
        "from IPython.display import display # Allows the use of display() for DataFrames\n",
        "\n",
        "# Suppress matplotlib user warnings\n",
        "# Necessary for newer version of matplotlib\n",
        "import warnings\n",
        "warnings.filterwarnings(\"ignore\", category = UserWarning, module = \"matplotlib\")\n",
        "#\n",
        "# Display inline matplotlib plots with IPython\n",
        "from IPython import get_ipython\n",
        "get_ipython().run_line_magic('matplotlib', 'inline')\n",
        "###########################################\n",
        "\n",
        "import matplotlib.pyplot as pl\n",
        "import matplotlib.patches as mpatches\n",
        "from wordcloud import WordCloud\n",
        "import numpy as np\n",
        "import pandas as pd\n",
        "from time import time\n",
        "from sklearn.metrics import f1_score, accuracy_score\n",
        "\n",
        "# Pretty display for notebooks\n",
        "%matplotlib inline\n",
        "\n",
        "from sklearn.metrics import precision_recall_fscore_support as score\n",
        "from sklearn.metrics import confusion_matrix\n",
        "from sklearn.model_selection import cross_val_score\n",
        "from sklearn.externals import joblib\n",
        "\n"
      ],
      "execution_count": 0,
      "outputs": []
    },
    {
      "metadata": {
        "id": "5sJ3quQ3GSsI",
        "colab_type": "code",
        "colab": {
          "base_uri": "https://localhost:8080/",
          "height": 197
        },
        "outputId": "2fe68772-a408-44a4-8965-5920bfc4cd7c"
      },
      "cell_type": "code",
      "source": [
        "#Load dataset\n",
        "pd.set_option('display.max_colwidth', 100)\n",
        "\n",
        "data = pd.read_csv(\"SMSSpamCollection\", sep='\\t', header=None)\n",
        "data.columns = ['label', 'body_text']\n",
        "\n",
        "display(data.head())"
      ],
      "execution_count": 11,
      "outputs": [
        {
          "output_type": "display_data",
          "data": {
            "text/html": [
              "<div>\n",
              "<style scoped>\n",
              "    .dataframe tbody tr th:only-of-type {\n",
              "        vertical-align: middle;\n",
              "    }\n",
              "\n",
              "    .dataframe tbody tr th {\n",
              "        vertical-align: top;\n",
              "    }\n",
              "\n",
              "    .dataframe thead th {\n",
              "        text-align: right;\n",
              "    }\n",
              "</style>\n",
              "<table border=\"1\" class=\"dataframe\">\n",
              "  <thead>\n",
              "    <tr style=\"text-align: right;\">\n",
              "      <th></th>\n",
              "      <th>label</th>\n",
              "      <th>body_text</th>\n",
              "    </tr>\n",
              "  </thead>\n",
              "  <tbody>\n",
              "    <tr>\n",
              "      <th>0</th>\n",
              "      <td>ham</td>\n",
              "      <td>Go until jurong point, crazy.. Available only in bugis n great world la e buffet... Cine there g...</td>\n",
              "    </tr>\n",
              "    <tr>\n",
              "      <th>1</th>\n",
              "      <td>ham</td>\n",
              "      <td>Ok lar... Joking wif u oni...</td>\n",
              "    </tr>\n",
              "    <tr>\n",
              "      <th>2</th>\n",
              "      <td>spam</td>\n",
              "      <td>Free entry in 2 a wkly comp to win FA Cup final tkts 21st May 2005. Text FA to 87121 to receive ...</td>\n",
              "    </tr>\n",
              "    <tr>\n",
              "      <th>3</th>\n",
              "      <td>ham</td>\n",
              "      <td>U dun say so early hor... U c already then say...</td>\n",
              "    </tr>\n",
              "    <tr>\n",
              "      <th>4</th>\n",
              "      <td>ham</td>\n",
              "      <td>Nah I don't think he goes to usf, he lives around here though</td>\n",
              "    </tr>\n",
              "  </tbody>\n",
              "</table>\n",
              "</div>"
            ],
            "text/plain": [
              "  label  \\\n",
              "0   ham   \n",
              "1   ham   \n",
              "2  spam   \n",
              "3   ham   \n",
              "4   ham   \n",
              "\n",
              "                                                                                             body_text  \n",
              "0  Go until jurong point, crazy.. Available only in bugis n great world la e buffet... Cine there g...  \n",
              "1                                                                        Ok lar... Joking wif u oni...  \n",
              "2  Free entry in 2 a wkly comp to win FA Cup final tkts 21st May 2005. Text FA to 87121 to receive ...  \n",
              "3                                                    U dun say so early hor... U c already then say...  \n",
              "4                                        Nah I don't think he goes to usf, he lives around here though  "
            ]
          },
          "metadata": {
            "tags": []
          }
        }
      ]
    },
    {
      "metadata": {
        "id": "vzR6MojsI0SN",
        "colab_type": "code",
        "colab": {
          "base_uri": "https://localhost:8080/",
          "height": 150
        },
        "outputId": "3a27fa4e-d09e-4774-bae8-a5053196c889"
      },
      "cell_type": "code",
      "source": [
        "display(data.info())\n"
      ],
      "execution_count": 12,
      "outputs": [
        {
          "output_type": "stream",
          "text": [
            "<class 'pandas.core.frame.DataFrame'>\n",
            "RangeIndex: 5572 entries, 0 to 5571\n",
            "Data columns (total 2 columns):\n",
            "label        5572 non-null object\n",
            "body_text    5572 non-null object\n",
            "dtypes: object(2)\n",
            "memory usage: 87.1+ KB\n"
          ],
          "name": "stdout"
        },
        {
          "output_type": "display_data",
          "data": {
            "text/plain": [
              "None"
            ]
          },
          "metadata": {
            "tags": []
          }
        }
      ]
    },
    {
      "metadata": {
        "id": "0p548PMxJEmK",
        "colab_type": "text"
      },
      "cell_type": "markdown",
      "source": [
        "# Implementation: Data Exploration\n",
        "\n",
        "A cursory investigation of the dataset will determine how many sms fit into either group, and will tell us about the percentage of these sms which are spam. \n"
      ]
    },
    {
      "metadata": {
        "id": "YMS3z10kI7h2",
        "colab_type": "code",
        "colab": {
          "base_uri": "https://localhost:8080/",
          "height": 83
        },
        "outputId": "f0f135c1-eb86-4d75-a619-7141512480d7"
      },
      "cell_type": "code",
      "source": [
        "# Total number of records\n",
        "n_records = data.shape[0]\n",
        "\n",
        "\n",
        "# Number of records where SMS  are ham\n",
        "n_ham = data[data.label==\"ham\"].label.count()\n",
        "\n",
        "# Number of records where SMS are ham\n",
        "n_spam =data[data.label==\"spam\"].label.count()\n",
        "\n",
        "# Percentage of SMS which are ham\n",
        "spam_percent = (n_spam / n_records) * 100\n",
        "\n",
        "# Print the results\n",
        "print(\"Total number of records: {}\".format(n_records))\n",
        "print(\"SMS which are ham: {}\".format(n_ham))\n",
        "print(\"SMS which are spam: {}\".format(n_spam))\n",
        "print(\"Percentage of SMS which are spam : {:.3f}%\".format(spam_percent))"
      ],
      "execution_count": 13,
      "outputs": [
        {
          "output_type": "stream",
          "text": [
            "Total number of records: 5572\n",
            "SMS which are ham: 4825\n",
            "SMS which are spam: 747\n",
            "Percentage of SMS which are spam : 13.406%\n"
          ],
          "name": "stdout"
        }
      ]
    },
    {
      "metadata": {
        "id": "7In_IcL0LRZH",
        "colab_type": "text"
      },
      "cell_type": "markdown",
      "source": [
        "# Cleaning data"
      ]
    },
    {
      "metadata": {
        "id": "N52U-6rqJfHY",
        "colab_type": "code",
        "colab": {}
      },
      "cell_type": "code",
      "source": [
        "# Remove punctuation\n",
        "import string\n",
        "\n",
        "def remove_punct(text):\n",
        "  text_nopunct = \"\".join([char for char in text if char not in string.punctuation]) \n",
        "  return text_nopunct.lower()\n"
      ],
      "execution_count": 0,
      "outputs": []
    },
    {
      "metadata": {
        "id": "6VxexupoNaIy",
        "colab_type": "code",
        "colab": {
          "base_uri": "https://localhost:8080/",
          "height": 231
        },
        "outputId": "8c70d424-00b7-4e5c-c484-89f7deeb85f0"
      },
      "cell_type": "code",
      "source": [
        "data['body_text_clean'] = data['body_text'].apply(lambda x: remove_punct(x))\n",
        "display(data.head())"
      ],
      "execution_count": 15,
      "outputs": [
        {
          "output_type": "display_data",
          "data": {
            "text/html": [
              "<div>\n",
              "<style scoped>\n",
              "    .dataframe tbody tr th:only-of-type {\n",
              "        vertical-align: middle;\n",
              "    }\n",
              "\n",
              "    .dataframe tbody tr th {\n",
              "        vertical-align: top;\n",
              "    }\n",
              "\n",
              "    .dataframe thead th {\n",
              "        text-align: right;\n",
              "    }\n",
              "</style>\n",
              "<table border=\"1\" class=\"dataframe\">\n",
              "  <thead>\n",
              "    <tr style=\"text-align: right;\">\n",
              "      <th></th>\n",
              "      <th>label</th>\n",
              "      <th>body_text</th>\n",
              "      <th>body_text_clean</th>\n",
              "    </tr>\n",
              "  </thead>\n",
              "  <tbody>\n",
              "    <tr>\n",
              "      <th>0</th>\n",
              "      <td>ham</td>\n",
              "      <td>Go until jurong point, crazy.. Available only in bugis n great world la e buffet... Cine there g...</td>\n",
              "      <td>go until jurong point crazy available only in bugis n great world la e buffet cine there got amo...</td>\n",
              "    </tr>\n",
              "    <tr>\n",
              "      <th>1</th>\n",
              "      <td>ham</td>\n",
              "      <td>Ok lar... Joking wif u oni...</td>\n",
              "      <td>ok lar joking wif u oni</td>\n",
              "    </tr>\n",
              "    <tr>\n",
              "      <th>2</th>\n",
              "      <td>spam</td>\n",
              "      <td>Free entry in 2 a wkly comp to win FA Cup final tkts 21st May 2005. Text FA to 87121 to receive ...</td>\n",
              "      <td>free entry in 2 a wkly comp to win fa cup final tkts 21st may 2005 text fa to 87121 to receive e...</td>\n",
              "    </tr>\n",
              "    <tr>\n",
              "      <th>3</th>\n",
              "      <td>ham</td>\n",
              "      <td>U dun say so early hor... U c already then say...</td>\n",
              "      <td>u dun say so early hor u c already then say</td>\n",
              "    </tr>\n",
              "    <tr>\n",
              "      <th>4</th>\n",
              "      <td>ham</td>\n",
              "      <td>Nah I don't think he goes to usf, he lives around here though</td>\n",
              "      <td>nah i dont think he goes to usf he lives around here though</td>\n",
              "    </tr>\n",
              "  </tbody>\n",
              "</table>\n",
              "</div>"
            ],
            "text/plain": [
              "  label  \\\n",
              "0   ham   \n",
              "1   ham   \n",
              "2  spam   \n",
              "3   ham   \n",
              "4   ham   \n",
              "\n",
              "                                                                                             body_text  \\\n",
              "0  Go until jurong point, crazy.. Available only in bugis n great world la e buffet... Cine there g...   \n",
              "1                                                                        Ok lar... Joking wif u oni...   \n",
              "2  Free entry in 2 a wkly comp to win FA Cup final tkts 21st May 2005. Text FA to 87121 to receive ...   \n",
              "3                                                    U dun say so early hor... U c already then say...   \n",
              "4                                        Nah I don't think he goes to usf, he lives around here though   \n",
              "\n",
              "                                                                                       body_text_clean  \n",
              "0  go until jurong point crazy available only in bugis n great world la e buffet cine there got amo...  \n",
              "1                                                                              ok lar joking wif u oni  \n",
              "2  free entry in 2 a wkly comp to win fa cup final tkts 21st may 2005 text fa to 87121 to receive e...  \n",
              "3                                                          u dun say so early hor u c already then say  \n",
              "4                                          nah i dont think he goes to usf he lives around here though  "
            ]
          },
          "metadata": {
            "tags": []
          }
        }
      ]
    },
    {
      "metadata": {
        "id": "SYVJ_3eWgHcs",
        "colab_type": "code",
        "colab": {}
      },
      "cell_type": "code",
      "source": [
        "\n",
        "def wc_message(df, type):\n",
        "    \"\"\"\n",
        "     Visualization repeated words in the messages (spam or ham)!\n",
        "\n",
        "     inputs:\n",
        "      - data fram\n",
        "      - label: type of messages (spam or ham) \n",
        "    \"\"\"\n",
        "    wc = WordCloud(width = 512, height = 512)\n",
        "    try:\n",
        "        if type == 'spam':\n",
        "            spam_words = ''.join(list(data[data['label'] == 'spam']['body_text_clean'] ))\n",
        "            spam_wc = wc.generate(spam_words)\n",
        "            pl.figure(figsize= (10,8), facecolor= 'k')\n",
        "            pl.imshow(spam_wc)\n",
        "\n",
        "        elif type == 'ham':\n",
        "            ham_words = ''.join(list(data[data['label'] == 'ham']['body_text_clean'] ))\n",
        "            ham_wc = wc.generate(ham_words)\n",
        "            pl.figure(figsize= (10,8), facecolor= 'k')\n",
        "            pl.imshow(ham_wc)\n",
        "        else:\n",
        "          print(\"please input right parmeters type wc_message.__doc__ and follow the inputs\")\n",
        "\n",
        "\n",
        "\n",
        "        pl.axis('off')\n",
        "        pl.tight_layout(pad = 0)\n",
        "        pl.show()\n",
        "    except Exception as e:\n",
        "        print(e)\n"
      ],
      "execution_count": 0,
      "outputs": []
    },
    {
      "metadata": {
        "id": "WNIcpSgdZXuT",
        "colab_type": "code",
        "colab": {
          "base_uri": "https://localhost:8080/",
          "height": 606
        },
        "outputId": "6551af97-1c31-4b92-b506-d7a7ac8030e7"
      },
      "cell_type": "code",
      "source": [
        "wc_message(data, 'spam')"
      ],
      "execution_count": 17,
      "outputs": [
        {
          "output_type": "display_data",
          "data": {
            "image/png": "[encoded data removed]",
            "text/plain": [
              "<matplotlib.figure.Figure at 0x7f543082d400>"
            ]
          },
          "metadata": {
            "tags": []
          }
        }
      ]
    },
    {
      "metadata": {
        "id": "LkcSF-G1TY-D",
        "colab_type": "code",
        "colab": {
          "base_uri": "https://localhost:8080/",
          "height": 606
        },
        "outputId": "c2a87f0a-e1bc-4130-8b20-da8d160dead3"
      },
      "cell_type": "code",
      "source": [
        "wc_message(data, 'ham')"
      ],
      "execution_count": 18,
      "outputs": [
        {
          "output_type": "display_data",
          "data": {
            "image/png": "[encoded data removed]",
            "text/plain": [
              "<matplotlib.figure.Figure at 0x7f54325c7400>"
            ]
          },
          "metadata": {
            "tags": []
          }
        }
      ]
    },
    {
      "metadata": {
        "id": "kOidvOyuli8c",
        "colab_type": "text"
      },
      "cell_type": "markdown",
      "source": [
        "## install spacy to use it in extract features from text \n",
        "* i didnot find english model so i will install it"
      ]
    },
    {
      "metadata": {
        "id": "Dfj2JlawNu9s",
        "colab_type": "code",
        "colab": {
          "base_uri": "https://localhost:8080/",
          "height": 520
        },
        "outputId": "59e0c4bc-5436-4061-a5e5-85e55286a007"
      },
      "cell_type": "code",
      "source": [
        "!pip install -U spacy\n",
        "import spacy\n"
      ],
      "execution_count": 19,
      "outputs": [
        {
          "output_type": "stream",
          "text": [
            "Requirement already up-to-date: spacy in /usr/local/lib/python3.6/dist-packages (2.0.16)\n",
            "Requirement already satisfied, skipping upgrade: murmurhash<1.1.0,>=0.28.0 in /usr/local/lib/python3.6/dist-packages (from spacy) (1.0.1)\n",
            "Requirement already satisfied, skipping upgrade: regex==2018.01.10 in /usr/local/lib/python3.6/dist-packages (from spacy) (2018.1.10)\n",
            "Requirement already satisfied, skipping upgrade: ujson>=1.35 in /usr/local/lib/python3.6/dist-packages (from spacy) (1.35)\n",
            "Requirement already satisfied, skipping upgrade: plac<1.0.0,>=0.9.6 in /usr/local/lib/python3.6/dist-packages (from spacy) (0.9.6)\n",
            "Requirement already satisfied, skipping upgrade: msgpack-numpy<0.4.4 in /usr/local/lib/python3.6/dist-packages (from spacy) (0.4.3.2)\n",
            "Requirement already satisfied, skipping upgrade: cymem<2.1.0,>=2.0.2 in /usr/local/lib/python3.6/dist-packages (from spacy) (2.0.2)\n",
            "Requirement already satisfied, skipping upgrade: requests<3.0.0,>=2.13.0 in /usr/local/lib/python3.6/dist-packages (from spacy) (2.18.4)\n",
            "Requirement already satisfied, skipping upgrade: preshed<2.1.0,>=2.0.1 in /usr/local/lib/python3.6/dist-packages (from spacy) (2.0.1)\n",
            "Requirement already satisfied, skipping upgrade: dill<0.3,>=0.2 in /usr/local/lib/python3.6/dist-packages (from spacy) (0.2.8.2)\n",
            "Requirement already satisfied, skipping upgrade: thinc<6.13.0,>=6.12.0 in /usr/local/lib/python3.6/dist-packages (from spacy) (6.12.0)\n",
            "Collecting numpy>=1.15.0 (from spacy)\n",
            "\u001b[?25l  Downloading https://files.pythonhosted.org/packages/ff/7f/9d804d2348471c67a7d8b5f84f9bc59fd1cefa148986f2b74552f8573555/numpy-1.15.4-cp36-cp36m-manylinux1_x86_64.whl (13.9MB)\n",
            "\u001b[K    100% |████████████████████████████████| 13.9MB 2.5MB/s \n",
            "\u001b[?25hRequirement already satisfied, skipping upgrade: msgpack>=0.3.0 in /usr/local/lib/python3.6/dist-packages (from msgpack-numpy<0.4.4->spacy) (0.5.6)\n",
            "Requirement already satisfied, skipping upgrade: idna<2.7,>=2.5 in /usr/local/lib/python3.6/dist-packages (from requests<3.0.0,>=2.13.0->spacy) (2.6)\n",
            "Requirement already satisfied, skipping upgrade: urllib3<1.23,>=1.21.1 in /usr/local/lib/python3.6/dist-packages (from requests<3.0.0,>=2.13.0->spacy) (1.22)\n",
            "Requirement already satisfied, skipping upgrade: chardet<3.1.0,>=3.0.2 in /usr/local/lib/python3.6/dist-packages (from requests<3.0.0,>=2.13.0->spacy) (3.0.4)\n",
            "Requirement already satisfied, skipping upgrade: certifi>=2017.4.17 in /usr/local/lib/python3.6/dist-packages (from requests<3.0.0,>=2.13.0->spacy) (2018.10.15)\n",
            "Requirement already satisfied, skipping upgrade: cytoolz<0.10,>=0.9.0 in /usr/local/lib/python3.6/dist-packages (from thinc<6.13.0,>=6.12.0->spacy) (0.9.0.1)\n",
            "Requirement already satisfied, skipping upgrade: tqdm<5.0.0,>=4.10.0 in /usr/local/lib/python3.6/dist-packages (from thinc<6.13.0,>=6.12.0->spacy) (4.28.1)\n",
            "Requirement already satisfied, skipping upgrade: six<2.0.0,>=1.10.0 in /usr/local/lib/python3.6/dist-packages (from thinc<6.13.0,>=6.12.0->spacy) (1.11.0)\n",
            "Requirement already satisfied, skipping upgrade: wrapt<1.11.0,>=1.10.0 in /usr/local/lib/python3.6/dist-packages (from thinc<6.13.0,>=6.12.0->spacy) (1.10.11)\n",
            "Requirement already satisfied, skipping upgrade: toolz>=0.8.0 in /usr/local/lib/python3.6/dist-packages (from cytoolz<0.10,>=0.9.0->thinc<6.13.0,>=6.12.0->spacy) (0.9.0)\n",
            "Installing collected packages: numpy\n",
            "  Found existing installation: numpy 1.14.6\n",
            "    Uninstalling numpy-1.14.6:\n",
            "      Successfully uninstalled numpy-1.14.6\n",
            "Successfully installed numpy-1.15.4\n"
          ],
          "name": "stdout"
        }
      ]
    },
    {
      "metadata": {
        "id": "O_vpSwAflSKh",
        "colab_type": "code",
        "colab": {
          "base_uri": "https://localhost:8080/",
          "height": 83
        },
        "outputId": "dfc894c2-c258-49c4-d449-8f1797752e80"
      },
      "cell_type": "code",
      "source": [
        "!python -m spacy info en "
      ],
      "execution_count": 20,
      "outputs": [
        {
          "output_type": "stream",
          "text": [
            "\n",
            "\u001b[93m    Can't find model meta.json\u001b[0m\n",
            "    /usr/local/lib/python3.6/dist-packages/spacy/data/en/meta.json\n",
            "\n"
          ],
          "name": "stdout"
        }
      ]
    },
    {
      "metadata": {
        "id": "b4e4Xce4lfd3",
        "colab_type": "code",
        "colab": {
          "base_uri": "https://localhost:8080/",
          "height": 253
        },
        "outputId": "9ba5bd1e-7c6d-4988-f628-19c5de1fc378"
      },
      "cell_type": "code",
      "source": [
        "!python3 -m spacy download en"
      ],
      "execution_count": 21,
      "outputs": [
        {
          "output_type": "stream",
          "text": [
            "Collecting en_core_web_sm==2.0.0 from https://github.com/explosion/spacy-models/releases/download/en_core_web_sm-2.0.0/en_core_web_sm-2.0.0.tar.gz#egg=en_core_web_sm==2.0.0\n",
            "\u001b[?25l  Downloading https://github.com/explosion/spacy-models/releases/download/en_core_web_sm-2.0.0/en_core_web_sm-2.0.0.tar.gz (37.4MB)\n",
            "\u001b[K    100% |████████████████████████████████| 37.4MB 79.9MB/s \n",
            "\u001b[?25hInstalling collected packages: en-core-web-sm\n",
            "  Running setup.py install for en-core-web-sm ... \u001b[?25l-\b \b\\\b \b|\b \bdone\n",
            "\u001b[?25hSuccessfully installed en-core-web-sm-2.0.0\n",
            "\n",
            "\u001b[93m    Linking successful\u001b[0m\n",
            "    /usr/local/lib/python3.6/dist-packages/en_core_web_sm -->\n",
            "    /usr/local/lib/python3.6/dist-packages/spacy/data/en\n",
            "\n",
            "    You can now load the model via spacy.load('en')\n",
            "\n"
          ],
          "name": "stdout"
        }
      ]
    },
    {
      "metadata": {
        "id": "XHWuz4I_SZjQ",
        "colab_type": "code",
        "colab": {}
      },
      "cell_type": "code",
      "source": [
        "nlp = spacy.load('en', tagger=False, parser=False, matcher=False)\n",
        "def toknize(text):\n",
        "  tokens = nlp(text)    \n",
        "  return tokens.text.split(\" \")\n",
        "  \n"
      ],
      "execution_count": 0,
      "outputs": []
    },
    {
      "metadata": {
        "id": "UxGUmp3Inddl",
        "colab_type": "code",
        "colab": {
          "base_uri": "https://localhost:8080/",
          "height": 264
        },
        "outputId": "fcb8fa68-0c31-438a-9a74-f8738581f3be"
      },
      "cell_type": "code",
      "source": [
        "data['tokens'] = data['body_text_clean'].apply(lambda x: toknize(x))\n",
        "display(data.head())"
      ],
      "execution_count": 23,
      "outputs": [
        {
          "output_type": "display_data",
          "data": {
            "text/html": [
              "<div>\n",
              "<style scoped>\n",
              "    .dataframe tbody tr th:only-of-type {\n",
              "        vertical-align: middle;\n",
              "    }\n",
              "\n",
              "    .dataframe tbody tr th {\n",
              "        vertical-align: top;\n",
              "    }\n",
              "\n",
              "    .dataframe thead th {\n",
              "        text-align: right;\n",
              "    }\n",
              "</style>\n",
              "<table border=\"1\" class=\"dataframe\">\n",
              "  <thead>\n",
              "    <tr style=\"text-align: right;\">\n",
              "      <th></th>\n",
              "      <th>label</th>\n",
              "      <th>body_text</th>\n",
              "      <th>body_text_clean</th>\n",
              "      <th>tokens</th>\n",
              "    </tr>\n",
              "  </thead>\n",
              "  <tbody>\n",
              "    <tr>\n",
              "      <th>0</th>\n",
              "      <td>ham</td>\n",
              "      <td>Go until jurong point, crazy.. Available only in bugis n great world la e buffet... Cine there g...</td>\n",
              "      <td>go until jurong point crazy available only in bugis n great world la e buffet cine there got amo...</td>\n",
              "      <td>[go, until, jurong, point, crazy, available, only, in, bugis, n, great, world, la, e, buffet, ci...</td>\n",
              "    </tr>\n",
              "    <tr>\n",
              "      <th>1</th>\n",
              "      <td>ham</td>\n",
              "      <td>Ok lar... Joking wif u oni...</td>\n",
              "      <td>ok lar joking wif u oni</td>\n",
              "      <td>[ok, lar, joking, wif, u, oni]</td>\n",
              "    </tr>\n",
              "    <tr>\n",
              "      <th>2</th>\n",
              "      <td>spam</td>\n",
              "      <td>Free entry in 2 a wkly comp to win FA Cup final tkts 21st May 2005. Text FA to 87121 to receive ...</td>\n",
              "      <td>free entry in 2 a wkly comp to win fa cup final tkts 21st may 2005 text fa to 87121 to receive e...</td>\n",
              "      <td>[free, entry, in, 2, a, wkly, comp, to, win, fa, cup, final, tkts, 21st, may, 2005, text, fa, to...</td>\n",
              "    </tr>\n",
              "    <tr>\n",
              "      <th>3</th>\n",
              "      <td>ham</td>\n",
              "      <td>U dun say so early hor... U c already then say...</td>\n",
              "      <td>u dun say so early hor u c already then say</td>\n",
              "      <td>[u, dun, say, so, early, hor, u, c, already, then, say]</td>\n",
              "    </tr>\n",
              "    <tr>\n",
              "      <th>4</th>\n",
              "      <td>ham</td>\n",
              "      <td>Nah I don't think he goes to usf, he lives around here though</td>\n",
              "      <td>nah i dont think he goes to usf he lives around here though</td>\n",
              "      <td>[nah, i, dont, think, he, goes, to, usf, he, lives, around, here, though]</td>\n",
              "    </tr>\n",
              "  </tbody>\n",
              "</table>\n",
              "</div>"
            ],
            "text/plain": [
              "  label  \\\n",
              "0   ham   \n",
              "1   ham   \n",
              "2  spam   \n",
              "3   ham   \n",
              "4   ham   \n",
              "\n",
              "                                                                                             body_text  \\\n",
              "0  Go until jurong point, crazy.. Available only in bugis n great world la e buffet... Cine there g...   \n",
              "1                                                                        Ok lar... Joking wif u oni...   \n",
              "2  Free entry in 2 a wkly comp to win FA Cup final tkts 21st May 2005. Text FA to 87121 to receive ...   \n",
              "3                                                    U dun say so early hor... U c already then say...   \n",
              "4                                        Nah I don't think he goes to usf, he lives around here though   \n",
              "\n",
              "                                                                                       body_text_clean  \\\n",
              "0  go until jurong point crazy available only in bugis n great world la e buffet cine there got amo...   \n",
              "1                                                                              ok lar joking wif u oni   \n",
              "2  free entry in 2 a wkly comp to win fa cup final tkts 21st may 2005 text fa to 87121 to receive e...   \n",
              "3                                                          u dun say so early hor u c already then say   \n",
              "4                                          nah i dont think he goes to usf he lives around here though   \n",
              "\n",
              "                                                                                                tokens  \n",
              "0  [go, until, jurong, point, crazy, available, only, in, bugis, n, great, world, la, e, buffet, ci...  \n",
              "1                                                                       [ok, lar, joking, wif, u, oni]  \n",
              "2  [free, entry, in, 2, a, wkly, comp, to, win, fa, cup, final, tkts, 21st, may, 2005, text, fa, to...  \n",
              "3                                              [u, dun, say, so, early, hor, u, c, already, then, say]  \n",
              "4                            [nah, i, dont, think, he, goes, to, usf, he, lives, around, here, though]  "
            ]
          },
          "metadata": {
            "tags": []
          }
        }
      ]
    },
    {
      "metadata": {
        "id": "JECNCe7amEtg",
        "colab_type": "code",
        "colab": {
          "base_uri": "https://localhost:8080/",
          "height": 53
        },
        "outputId": "6513c85f-e47f-4720-ed07-1e675856cbad"
      },
      "cell_type": "code",
      "source": [
        "# Remove English stop words \n",
        "from spacy.lang.en.stop_words import STOP_WORDS\n",
        "\n",
        "print(STOP_WORDS) \n",
        "# you can add new stop words with this command \n",
        "#STOP_WORDS.add(\"your_additional_stop_word_here\")"
      ],
      "execution_count": 24,
      "outputs": [
        {
          "output_type": "stream",
          "text": [
            "{'formerly', 'became', 'empty', 'how', 'thence', 'first', 'ever', 'put', 'besides', 'several', 'sometimes', 'if', 'these', 'any', 'somehow', 'whereupon', 'yourself', 'ours', 'itself', 'eight', 'everyone', 'per', 're', 'where', 'against', 'amongst', 'beside', 'take', 'above', 'your', 'whenever', 'him', 'other', 'latter', 'others', 'sometime', 'part', 'whither', 'she', 'full', 'been', 'mostly', 'top', 'six', 'wherever', 'himself', 'or', 'but', 'same', 'even', 'seem', 'only', 'front', 'twelve', 'over', 'onto', 'by', 'made', 'is', 'yours', 'since', 'really', 'her', 'still', 'due', 'few', 'namely', 'three', 'using', 'on', 'see', 'make', 'four', 'fifty', 'perhaps', 'that', 'doing', 'as', 'nine', 'thereby', 'every', 'therefore', 'does', 'will', 'you', 'done', 'between', 'in', 'our', 'should', 'had', 'have', 'anyone', 'least', 'us', 'either', 'i', 'seeming', 'whole', 'sixty', 'were', 'herein', 'show', 'why', 'those', 'under', 'what', 'twenty', 'whatever', 'here', 'out', 'throughout', 'nowhere', 'are', 'to', 'too', 'would', 'eleven', 'otherwise', 'anywhere', 'most', 'none', 'seems', 'together', 'from', 'again', 'seemed', 'toward', 'two', 'forty', 'without', 'afterwards', 'a', 'ourselves', 'at', 'into', 'back', 'regarding', 'thereafter', 'all', 'become', 'ca', 'he', 'whom', 'hereupon', 'nobody', 'off', 'beforehand', 'herself', 'behind', 'myself', 'their', 'therein', 'say', 'thereupon', 'unless', 'being', 'until', 'also', 'fifteen', 'this', 'although', 'once', 'quite', 'the', 'various', 'else', 'nevertheless', 'with', 'during', 'among', 'last', 'not', 'themselves', 'anyway', 'becoming', 'hundred', 'just', 'very', 'nothing', 'please', 'rather', 'ten', 'yet', 'and', 'elsewhere', 'around', 'neither', 'hereby', 'whether', 'however', 'further', 'serious', 'almost', 'call', 'nor', 'former', 'for', 'already', 'indeed', 'latterly', 'moreover', 'next', 'one', 'did', 'someone', 'than', 'less', 'via', 'them', 'which', 'five', 'often', 'mine', 'own', 'go', 'used', 'many', 'they', 'am', 'side', 'now', 'after', 'everywhere', 'whose', 'except', 'me', 'towards', 'bottom', 'up', 'upon', 'always', 'enough', 'of', 'something', 'both', 'through', 'we', 'about', 'more', 'another', 'was', 'wherein', 'my', 'name', 'while', 'get', 'its', 'such', 'each', 'across', 'might', 'whence', 'anyhow', 'never', 'within', 'well', 'do', 'give', 'then', 'whereby', 'it', 'though', 'along', 'an', 'anything', 'his', 'so', 'there', 'third', 'hers', 'hereafter', 'be', 'thus', 'because', 'noone', 'before', 'beyond', 'somewhere', 'when', 'below', 'has', 'must', 'much', 'some', 'can', 'alone', 'whereafter', 'no', 'thru', 'whoever', 'hence', 'keep', 'whereas', 'down', 'everything', 'who', 'yourselves', 'meanwhile', 'could', 'may', 'move', 'amount', 'cannot', 'becomes'}\n"
          ],
          "name": "stdout"
        }
      ]
    },
    {
      "metadata": {
        "id": "99W_8xoVtNr7",
        "colab_type": "code",
        "colab": {}
      },
      "cell_type": "code",
      "source": [
        "def remove_stopwords(tokenized_list):\n",
        "  text = [word for word in tokenized_list if word not in STOP_WORDS]\n",
        "  return text"
      ],
      "execution_count": 0,
      "outputs": []
    },
    {
      "metadata": {
        "id": "mc-mM7O8tygD",
        "colab_type": "code",
        "colab": {
          "base_uri": "https://localhost:8080/",
          "height": 297
        },
        "outputId": "1abe6378-a206-4385-d2f2-523edff4d482"
      },
      "cell_type": "code",
      "source": [
        "data['text_nostop'] = data['tokens'].apply(lambda x: remove_stopwords(x))\n",
        "\n",
        "data.head()"
      ],
      "execution_count": 26,
      "outputs": [
        {
          "output_type": "execute_result",
          "data": {
            "text/html": [
              "<div>\n",
              "<style scoped>\n",
              "    .dataframe tbody tr th:only-of-type {\n",
              "        vertical-align: middle;\n",
              "    }\n",
              "\n",
              "    .dataframe tbody tr th {\n",
              "        vertical-align: top;\n",
              "    }\n",
              "\n",
              "    .dataframe thead th {\n",
              "        text-align: right;\n",
              "    }\n",
              "</style>\n",
              "<table border=\"1\" class=\"dataframe\">\n",
              "  <thead>\n",
              "    <tr style=\"text-align: right;\">\n",
              "      <th></th>\n",
              "      <th>label</th>\n",
              "      <th>body_text</th>\n",
              "      <th>body_text_clean</th>\n",
              "      <th>tokens</th>\n",
              "      <th>text_nostop</th>\n",
              "    </tr>\n",
              "  </thead>\n",
              "  <tbody>\n",
              "    <tr>\n",
              "      <th>0</th>\n",
              "      <td>ham</td>\n",
              "      <td>Go until jurong point, crazy.. Available only in bugis n great world la e buffet... Cine there g...</td>\n",
              "      <td>go until jurong point crazy available only in bugis n great world la e buffet cine there got amo...</td>\n",
              "      <td>[go, until, jurong, point, crazy, available, only, in, bugis, n, great, world, la, e, buffet, ci...</td>\n",
              "      <td>[jurong, point, crazy, available, bugis, n, great, world, la, e, buffet, cine, got, amore, wat]</td>\n",
              "    </tr>\n",
              "    <tr>\n",
              "      <th>1</th>\n",
              "      <td>ham</td>\n",
              "      <td>Ok lar... Joking wif u oni...</td>\n",
              "      <td>ok lar joking wif u oni</td>\n",
              "      <td>[ok, lar, joking, wif, u, oni]</td>\n",
              "      <td>[ok, lar, joking, wif, u, oni]</td>\n",
              "    </tr>\n",
              "    <tr>\n",
              "      <th>2</th>\n",
              "      <td>spam</td>\n",
              "      <td>Free entry in 2 a wkly comp to win FA Cup final tkts 21st May 2005. Text FA to 87121 to receive ...</td>\n",
              "      <td>free entry in 2 a wkly comp to win fa cup final tkts 21st may 2005 text fa to 87121 to receive e...</td>\n",
              "      <td>[free, entry, in, 2, a, wkly, comp, to, win, fa, cup, final, tkts, 21st, may, 2005, text, fa, to...</td>\n",
              "      <td>[free, entry, 2, wkly, comp, win, fa, cup, final, tkts, 21st, 2005, text, fa, 87121, receive, en...</td>\n",
              "    </tr>\n",
              "    <tr>\n",
              "      <th>3</th>\n",
              "      <td>ham</td>\n",
              "      <td>U dun say so early hor... U c already then say...</td>\n",
              "      <td>u dun say so early hor u c already then say</td>\n",
              "      <td>[u, dun, say, so, early, hor, u, c, already, then, say]</td>\n",
              "      <td>[u, dun, early, hor, u, c]</td>\n",
              "    </tr>\n",
              "    <tr>\n",
              "      <th>4</th>\n",
              "      <td>ham</td>\n",
              "      <td>Nah I don't think he goes to usf, he lives around here though</td>\n",
              "      <td>nah i dont think he goes to usf he lives around here though</td>\n",
              "      <td>[nah, i, dont, think, he, goes, to, usf, he, lives, around, here, though]</td>\n",
              "      <td>[nah, dont, think, goes, usf, lives]</td>\n",
              "    </tr>\n",
              "  </tbody>\n",
              "</table>\n",
              "</div>"
            ],
            "text/plain": [
              "  label  \\\n",
              "0   ham   \n",
              "1   ham   \n",
              "2  spam   \n",
              "3   ham   \n",
              "4   ham   \n",
              "\n",
              "                                                                                             body_text  \\\n",
              "0  Go until jurong point, crazy.. Available only in bugis n great world la e buffet... Cine there g...   \n",
              "1                                                                        Ok lar... Joking wif u oni...   \n",
              "2  Free entry in 2 a wkly comp to win FA Cup final tkts 21st May 2005. Text FA to 87121 to receive ...   \n",
              "3                                                    U dun say so early hor... U c already then say...   \n",
              "4                                        Nah I don't think he goes to usf, he lives around here though   \n",
              "\n",
              "                                                                                       body_text_clean  \\\n",
              "0  go until jurong point crazy available only in bugis n great world la e buffet cine there got amo...   \n",
              "1                                                                              ok lar joking wif u oni   \n",
              "2  free entry in 2 a wkly comp to win fa cup final tkts 21st may 2005 text fa to 87121 to receive e...   \n",
              "3                                                          u dun say so early hor u c already then say   \n",
              "4                                          nah i dont think he goes to usf he lives around here though   \n",
              "\n",
              "                                                                                                tokens  \\\n",
              "0  [go, until, jurong, point, crazy, available, only, in, bugis, n, great, world, la, e, buffet, ci...   \n",
              "1                                                                       [ok, lar, joking, wif, u, oni]   \n",
              "2  [free, entry, in, 2, a, wkly, comp, to, win, fa, cup, final, tkts, 21st, may, 2005, text, fa, to...   \n",
              "3                                              [u, dun, say, so, early, hor, u, c, already, then, say]   \n",
              "4                            [nah, i, dont, think, he, goes, to, usf, he, lives, around, here, though]   \n",
              "\n",
              "                                                                                           text_nostop  \n",
              "0      [jurong, point, crazy, available, bugis, n, great, world, la, e, buffet, cine, got, amore, wat]  \n",
              "1                                                                       [ok, lar, joking, wif, u, oni]  \n",
              "2  [free, entry, 2, wkly, comp, win, fa, cup, final, tkts, 21st, 2005, text, fa, 87121, receive, en...  \n",
              "3                                                                           [u, dun, early, hor, u, c]  \n",
              "4                                                                 [nah, dont, think, goes, usf, lives]  "
            ]
          },
          "metadata": {
            "tags": []
          },
          "execution_count": 26
        }
      ]
    },
    {
      "metadata": {
        "id": "ixls3UwIuTeU",
        "colab_type": "code",
        "colab": {
          "base_uri": "https://localhost:8080/",
          "height": 790
        },
        "outputId": "fb5a1045-ec9b-4719-88d5-68d39ac5d76c"
      },
      "cell_type": "code",
      "source": [
        "from spacy import displacy\n",
        "\n",
        "doc = nlp(data.body_text_clean[0])\n",
        "displacy.render(doc, style='dep', jupyter=True)\n"
      ],
      "execution_count": 27,
      "outputs": [
        {
          "output_type": "display_data",
          "data": {
            "text/html": [
              "<svg xmlns=\"http://www.w3.org/2000/svg\" xmlns:xlink=\"http://www.w3.org/1999/xlink\" id=\"0\" class=\"displacy\" width=\"3550\" height=\"749.5\" style=\"max-width: none; height: 749.5px; color: #000000; background: #ffffff; font-family: Arial\">\n",
              "<text class=\"displacy-token\" fill=\"currentColor\" text-anchor=\"middle\" y=\"659.5\">\n",
              "    <tspan class=\"displacy-word\" fill=\"currentColor\" x=\"50\">go</tspan>\n",
              "    <tspan class=\"displacy-tag\" dy=\"2em\" fill=\"currentColor\" x=\"50\">VERB</tspan>\n",
              "</text>\n",
              "\n",
              "<text class=\"displacy-token\" fill=\"currentColor\" text-anchor=\"middle\" y=\"659.5\">\n",
              "    <tspan class=\"displacy-word\" fill=\"currentColor\" x=\"225\">until</tspan>\n",
              "    <tspan class=\"displacy-tag\" dy=\"2em\" fill=\"currentColor\" x=\"225\">ADP</tspan>\n",
              "</text>\n",
              "\n",
              "<text class=\"displacy-token\" fill=\"currentColor\" text-anchor=\"middle\" y=\"659.5\">\n",
              "    <tspan class=\"displacy-word\" fill=\"currentColor\" x=\"400\">jurong</tspan>\n",
              "    <tspan class=\"displacy-tag\" dy=\"2em\" fill=\"currentColor\" x=\"400\">NOUN</tspan>\n",
              "</text>\n",
              "\n",
              "<text class=\"displacy-token\" fill=\"currentColor\" text-anchor=\"middle\" y=\"659.5\">\n",
              "    <tspan class=\"displacy-word\" fill=\"currentColor\" x=\"575\">point</tspan>\n",
              "    <tspan class=\"displacy-tag\" dy=\"2em\" fill=\"currentColor\" x=\"575\">NOUN</tspan>\n",
              "</text>\n",
              "\n",
              "<text class=\"displacy-token\" fill=\"currentColor\" text-anchor=\"middle\" y=\"659.5\">\n",
              "    <tspan class=\"displacy-word\" fill=\"currentColor\" x=\"750\">crazy</tspan>\n",
              "    <tspan class=\"displacy-tag\" dy=\"2em\" fill=\"currentColor\" x=\"750\">ADJ</tspan>\n",
              "</text>\n",
              "\n",
              "<text class=\"displacy-token\" fill=\"currentColor\" text-anchor=\"middle\" y=\"659.5\">\n",
              "    <tspan class=\"displacy-word\" fill=\"currentColor\" x=\"925\">available</tspan>\n",
              "    <tspan class=\"displacy-tag\" dy=\"2em\" fill=\"currentColor\" x=\"925\">ADJ</tspan>\n",
              "</text>\n",
              "\n",
              "<text class=\"displacy-token\" fill=\"currentColor\" text-anchor=\"middle\" y=\"659.5\">\n",
              "    <tspan class=\"displacy-word\" fill=\"currentColor\" x=\"1100\">only</tspan>\n",
              "    <tspan class=\"displacy-tag\" dy=\"2em\" fill=\"currentColor\" x=\"1100\">ADV</tspan>\n",
              "</text>\n",
              "\n",
              "<text class=\"displacy-token\" fill=\"currentColor\" text-anchor=\"middle\" y=\"659.5\">\n",
              "    <tspan class=\"displacy-word\" fill=\"currentColor\" x=\"1275\">in</tspan>\n",
              "    <tspan class=\"displacy-tag\" dy=\"2em\" fill=\"currentColor\" x=\"1275\">ADP</tspan>\n",
              "</text>\n",
              "\n",
              "<text class=\"displacy-token\" fill=\"currentColor\" text-anchor=\"middle\" y=\"659.5\">\n",
              "    <tspan class=\"displacy-word\" fill=\"currentColor\" x=\"1450\">bugis</tspan>\n",
              "    <tspan class=\"displacy-tag\" dy=\"2em\" fill=\"currentColor\" x=\"1450\">NOUN</tspan>\n",
              "</text>\n",
              "\n",
              "<text class=\"displacy-token\" fill=\"currentColor\" text-anchor=\"middle\" y=\"659.5\">\n",
              "    <tspan class=\"displacy-word\" fill=\"currentColor\" x=\"1625\">n</tspan>\n",
              "    <tspan class=\"displacy-tag\" dy=\"2em\" fill=\"currentColor\" x=\"1625\">CCONJ</tspan>\n",
              "</text>\n",
              "\n",
              "<text class=\"displacy-token\" fill=\"currentColor\" text-anchor=\"middle\" y=\"659.5\">\n",
              "    <tspan class=\"displacy-word\" fill=\"currentColor\" x=\"1800\">great</tspan>\n",
              "    <tspan class=\"displacy-tag\" dy=\"2em\" fill=\"currentColor\" x=\"1800\">ADJ</tspan>\n",
              "</text>\n",
              "\n",
              "<text class=\"displacy-token\" fill=\"currentColor\" text-anchor=\"middle\" y=\"659.5\">\n",
              "    <tspan class=\"displacy-word\" fill=\"currentColor\" x=\"1975\">world</tspan>\n",
              "    <tspan class=\"displacy-tag\" dy=\"2em\" fill=\"currentColor\" x=\"1975\">NOUN</tspan>\n",
              "</text>\n",
              "\n",
              "<text class=\"displacy-token\" fill=\"currentColor\" text-anchor=\"middle\" y=\"659.5\">\n",
              "    <tspan class=\"displacy-word\" fill=\"currentColor\" x=\"2150\">la</tspan>\n",
              "    <tspan class=\"displacy-tag\" dy=\"2em\" fill=\"currentColor\" x=\"2150\">ADP</tspan>\n",
              "</text>\n",
              "\n",
              "<text class=\"displacy-token\" fill=\"currentColor\" text-anchor=\"middle\" y=\"659.5\">\n",
              "    <tspan class=\"displacy-word\" fill=\"currentColor\" x=\"2325\">e</tspan>\n",
              "    <tspan class=\"displacy-tag\" dy=\"2em\" fill=\"currentColor\" x=\"2325\">NOUN</tspan>\n",
              "</text>\n",
              "\n",
              "<text class=\"displacy-token\" fill=\"currentColor\" text-anchor=\"middle\" y=\"659.5\">\n",
              "    <tspan class=\"displacy-word\" fill=\"currentColor\" x=\"2500\">buffet</tspan>\n",
              "    <tspan class=\"displacy-tag\" dy=\"2em\" fill=\"currentColor\" x=\"2500\">NOUN</tspan>\n",
              "</text>\n",
              "\n",
              "<text class=\"displacy-token\" fill=\"currentColor\" text-anchor=\"middle\" y=\"659.5\">\n",
              "    <tspan class=\"displacy-word\" fill=\"currentColor\" x=\"2675\">cine</tspan>\n",
              "    <tspan class=\"displacy-tag\" dy=\"2em\" fill=\"currentColor\" x=\"2675\">NOUN</tspan>\n",
              "</text>\n",
              "\n",
              "<text class=\"displacy-token\" fill=\"currentColor\" text-anchor=\"middle\" y=\"659.5\">\n",
              "    <tspan class=\"displacy-word\" fill=\"currentColor\" x=\"2850\">there</tspan>\n",
              "    <tspan class=\"displacy-tag\" dy=\"2em\" fill=\"currentColor\" x=\"2850\">ADV</tspan>\n",
              "</text>\n",
              "\n",
              "<text class=\"displacy-token\" fill=\"currentColor\" text-anchor=\"middle\" y=\"659.5\">\n",
              "    <tspan class=\"displacy-word\" fill=\"currentColor\" x=\"3025\">got</tspan>\n",
              "    <tspan class=\"displacy-tag\" dy=\"2em\" fill=\"currentColor\" x=\"3025\">VERB</tspan>\n",
              "</text>\n",
              "\n",
              "<text class=\"displacy-token\" fill=\"currentColor\" text-anchor=\"middle\" y=\"659.5\">\n",
              "    <tspan class=\"displacy-word\" fill=\"currentColor\" x=\"3200\">amore</tspan>\n",
              "    <tspan class=\"displacy-tag\" dy=\"2em\" fill=\"currentColor\" x=\"3200\">NOUN</tspan>\n",
              "</text>\n",
              "\n",
              "<text class=\"displacy-token\" fill=\"currentColor\" text-anchor=\"middle\" y=\"659.5\">\n",
              "    <tspan class=\"displacy-word\" fill=\"currentColor\" x=\"3375\">wat</tspan>\n",
              "    <tspan class=\"displacy-tag\" dy=\"2em\" fill=\"currentColor\" x=\"3375\">NOUN</tspan>\n",
              "</text>\n",
              "\n",
              "<g class=\"displacy-arrow\">\n",
              "    <path class=\"displacy-arc\" id=\"arrow-0-0\" stroke-width=\"2px\" d=\"M70,614.5 C70,2.0 3025.0,2.0 3025.0,614.5\" fill=\"none\" stroke=\"currentColor\"/>\n",
              "    <text dy=\"1.25em\" style=\"font-size: 0.8em; letter-spacing: 1px\">\n",
              "        <textPath xlink:href=\"#arrow-0-0\" class=\"displacy-label\" startOffset=\"50%\" fill=\"currentColor\" text-anchor=\"middle\">advcl</textPath>\n",
              "    </text>\n",
              "    <path class=\"displacy-arrowhead\" d=\"M70,616.5 L62,604.5 78,604.5\" fill=\"currentColor\"/>\n",
              "</g>\n",
              "\n",
              "<g class=\"displacy-arrow\">\n",
              "    <path class=\"displacy-arc\" id=\"arrow-0-1\" stroke-width=\"2px\" d=\"M245,614.5 C245,264.5 910.0,264.5 910.0,614.5\" fill=\"none\" stroke=\"currentColor\"/>\n",
              "    <text dy=\"1.25em\" style=\"font-size: 0.8em; letter-spacing: 1px\">\n",
              "        <textPath xlink:href=\"#arrow-0-1\" class=\"displacy-label\" startOffset=\"50%\" fill=\"currentColor\" text-anchor=\"middle\">mark</textPath>\n",
              "    </text>\n",
              "    <path class=\"displacy-arrowhead\" d=\"M245,616.5 L237,604.5 253,604.5\" fill=\"currentColor\"/>\n",
              "</g>\n",
              "\n",
              "<g class=\"displacy-arrow\">\n",
              "    <path class=\"displacy-arc\" id=\"arrow-0-2\" stroke-width=\"2px\" d=\"M420,614.5 C420,527.0 545.0,527.0 545.0,614.5\" fill=\"none\" stroke=\"currentColor\"/>\n",
              "    <text dy=\"1.25em\" style=\"font-size: 0.8em; letter-spacing: 1px\">\n",
              "        <textPath xlink:href=\"#arrow-0-2\" class=\"displacy-label\" startOffset=\"50%\" fill=\"currentColor\" text-anchor=\"middle\">amod</textPath>\n",
              "    </text>\n",
              "    <path class=\"displacy-arrowhead\" d=\"M420,616.5 L412,604.5 428,604.5\" fill=\"currentColor\"/>\n",
              "</g>\n",
              "\n",
              "<g class=\"displacy-arrow\">\n",
              "    <path class=\"displacy-arc\" id=\"arrow-0-3\" stroke-width=\"2px\" d=\"M595,614.5 C595,527.0 720.0,527.0 720.0,614.5\" fill=\"none\" stroke=\"currentColor\"/>\n",
              "    <text dy=\"1.25em\" style=\"font-size: 0.8em; letter-spacing: 1px\">\n",
              "        <textPath xlink:href=\"#arrow-0-3\" class=\"displacy-label\" startOffset=\"50%\" fill=\"currentColor\" text-anchor=\"middle\">nsubj</textPath>\n",
              "    </text>\n",
              "    <path class=\"displacy-arrowhead\" d=\"M595,616.5 L587,604.5 603,604.5\" fill=\"currentColor\"/>\n",
              "</g>\n",
              "\n",
              "<g class=\"displacy-arrow\">\n",
              "    <path class=\"displacy-arc\" id=\"arrow-0-4\" stroke-width=\"2px\" d=\"M770,614.5 C770,527.0 895.0,527.0 895.0,614.5\" fill=\"none\" stroke=\"currentColor\"/>\n",
              "    <text dy=\"1.25em\" style=\"font-size: 0.8em; letter-spacing: 1px\">\n",
              "        <textPath xlink:href=\"#arrow-0-4\" class=\"displacy-label\" startOffset=\"50%\" fill=\"currentColor\" text-anchor=\"middle\">nsubj</textPath>\n",
              "    </text>\n",
              "    <path class=\"displacy-arrowhead\" d=\"M770,616.5 L762,604.5 778,604.5\" fill=\"currentColor\"/>\n",
              "</g>\n",
              "\n",
              "<g class=\"displacy-arrow\">\n",
              "    <path class=\"displacy-arc\" id=\"arrow-0-5\" stroke-width=\"2px\" d=\"M70,614.5 C70,177.0 915.0,177.0 915.0,614.5\" fill=\"none\" stroke=\"currentColor\"/>\n",
              "    <text dy=\"1.25em\" style=\"font-size: 0.8em; letter-spacing: 1px\">\n",
              "        <textPath xlink:href=\"#arrow-0-5\" class=\"displacy-label\" startOffset=\"50%\" fill=\"currentColor\" text-anchor=\"middle\">advcl</textPath>\n",
              "    </text>\n",
              "    <path class=\"displacy-arrowhead\" d=\"M915.0,616.5 L923.0,604.5 907.0,604.5\" fill=\"currentColor\"/>\n",
              "</g>\n",
              "\n",
              "<g class=\"displacy-arrow\">\n",
              "    <path class=\"displacy-arc\" id=\"arrow-0-6\" stroke-width=\"2px\" d=\"M1120,614.5 C1120,527.0 1245.0,527.0 1245.0,614.5\" fill=\"none\" stroke=\"currentColor\"/>\n",
              "    <text dy=\"1.25em\" style=\"font-size: 0.8em; letter-spacing: 1px\">\n",
              "        <textPath xlink:href=\"#arrow-0-6\" class=\"displacy-label\" startOffset=\"50%\" fill=\"currentColor\" text-anchor=\"middle\">advmod</textPath>\n",
              "    </text>\n",
              "    <path class=\"displacy-arrowhead\" d=\"M1120,616.5 L1112,604.5 1128,604.5\" fill=\"currentColor\"/>\n",
              "</g>\n",
              "\n",
              "<g class=\"displacy-arrow\">\n",
              "    <path class=\"displacy-arc\" id=\"arrow-0-7\" stroke-width=\"2px\" d=\"M945,614.5 C945,439.5 1250.0,439.5 1250.0,614.5\" fill=\"none\" stroke=\"currentColor\"/>\n",
              "    <text dy=\"1.25em\" style=\"font-size: 0.8em; letter-spacing: 1px\">\n",
              "        <textPath xlink:href=\"#arrow-0-7\" class=\"displacy-label\" startOffset=\"50%\" fill=\"currentColor\" text-anchor=\"middle\">prep</textPath>\n",
              "    </text>\n",
              "    <path class=\"displacy-arrowhead\" d=\"M1250.0,616.5 L1258.0,604.5 1242.0,604.5\" fill=\"currentColor\"/>\n",
              "</g>\n",
              "\n",
              "<g class=\"displacy-arrow\">\n",
              "    <path class=\"displacy-arc\" id=\"arrow-0-8\" stroke-width=\"2px\" d=\"M1295,614.5 C1295,527.0 1420.0,527.0 1420.0,614.5\" fill=\"none\" stroke=\"currentColor\"/>\n",
              "    <text dy=\"1.25em\" style=\"font-size: 0.8em; letter-spacing: 1px\">\n",
              "        <textPath xlink:href=\"#arrow-0-8\" class=\"displacy-label\" startOffset=\"50%\" fill=\"currentColor\" text-anchor=\"middle\">pobj</textPath>\n",
              "    </text>\n",
              "    <path class=\"displacy-arrowhead\" d=\"M1420.0,616.5 L1428.0,604.5 1412.0,604.5\" fill=\"currentColor\"/>\n",
              "</g>\n",
              "\n",
              "<g class=\"displacy-arrow\">\n",
              "    <path class=\"displacy-arc\" id=\"arrow-0-9\" stroke-width=\"2px\" d=\"M1470,614.5 C1470,527.0 1595.0,527.0 1595.0,614.5\" fill=\"none\" stroke=\"currentColor\"/>\n",
              "    <text dy=\"1.25em\" style=\"font-size: 0.8em; letter-spacing: 1px\">\n",
              "        <textPath xlink:href=\"#arrow-0-9\" class=\"displacy-label\" startOffset=\"50%\" fill=\"currentColor\" text-anchor=\"middle\">cc</textPath>\n",
              "    </text>\n",
              "    <path class=\"displacy-arrowhead\" d=\"M1595.0,616.5 L1603.0,604.5 1587.0,604.5\" fill=\"currentColor\"/>\n",
              "</g>\n",
              "\n",
              "<g class=\"displacy-arrow\">\n",
              "    <path class=\"displacy-arc\" id=\"arrow-0-10\" stroke-width=\"2px\" d=\"M1820,614.5 C1820,177.0 2665.0,177.0 2665.0,614.5\" fill=\"none\" stroke=\"currentColor\"/>\n",
              "    <text dy=\"1.25em\" style=\"font-size: 0.8em; letter-spacing: 1px\">\n",
              "        <textPath xlink:href=\"#arrow-0-10\" class=\"displacy-label\" startOffset=\"50%\" fill=\"currentColor\" text-anchor=\"middle\">amod</textPath>\n",
              "    </text>\n",
              "    <path class=\"displacy-arrowhead\" d=\"M1820,616.5 L1812,604.5 1828,604.5\" fill=\"currentColor\"/>\n",
              "</g>\n",
              "\n",
              "<g class=\"displacy-arrow\">\n",
              "    <path class=\"displacy-arc\" id=\"arrow-0-11\" stroke-width=\"2px\" d=\"M1995,614.5 C1995,527.0 2120.0,527.0 2120.0,614.5\" fill=\"none\" stroke=\"currentColor\"/>\n",
              "    <text dy=\"1.25em\" style=\"font-size: 0.8em; letter-spacing: 1px\">\n",
              "        <textPath xlink:href=\"#arrow-0-11\" class=\"displacy-label\" startOffset=\"50%\" fill=\"currentColor\" text-anchor=\"middle\">compound</textPath>\n",
              "    </text>\n",
              "    <path class=\"displacy-arrowhead\" d=\"M1995,616.5 L1987,604.5 2003,604.5\" fill=\"currentColor\"/>\n",
              "</g>\n",
              "\n",
              "<g class=\"displacy-arrow\">\n",
              "    <path class=\"displacy-arc\" id=\"arrow-0-12\" stroke-width=\"2px\" d=\"M2170,614.5 C2170,352.0 2655.0,352.0 2655.0,614.5\" fill=\"none\" stroke=\"currentColor\"/>\n",
              "    <text dy=\"1.25em\" style=\"font-size: 0.8em; letter-spacing: 1px\">\n",
              "        <textPath xlink:href=\"#arrow-0-12\" class=\"displacy-label\" startOffset=\"50%\" fill=\"currentColor\" text-anchor=\"middle\">compound</textPath>\n",
              "    </text>\n",
              "    <path class=\"displacy-arrowhead\" d=\"M2170,616.5 L2162,604.5 2178,604.5\" fill=\"currentColor\"/>\n",
              "</g>\n",
              "\n",
              "<g class=\"displacy-arrow\">\n",
              "    <path class=\"displacy-arc\" id=\"arrow-0-13\" stroke-width=\"2px\" d=\"M2345,614.5 C2345,439.5 2650.0,439.5 2650.0,614.5\" fill=\"none\" stroke=\"currentColor\"/>\n",
              "    <text dy=\"1.25em\" style=\"font-size: 0.8em; letter-spacing: 1px\">\n",
              "        <textPath xlink:href=\"#arrow-0-13\" class=\"displacy-label\" startOffset=\"50%\" fill=\"currentColor\" text-anchor=\"middle\">compound</textPath>\n",
              "    </text>\n",
              "    <path class=\"displacy-arrowhead\" d=\"M2345,616.5 L2337,604.5 2353,604.5\" fill=\"currentColor\"/>\n",
              "</g>\n",
              "\n",
              "<g class=\"displacy-arrow\">\n",
              "    <path class=\"displacy-arc\" id=\"arrow-0-14\" stroke-width=\"2px\" d=\"M2520,614.5 C2520,527.0 2645.0,527.0 2645.0,614.5\" fill=\"none\" stroke=\"currentColor\"/>\n",
              "    <text dy=\"1.25em\" style=\"font-size: 0.8em; letter-spacing: 1px\">\n",
              "        <textPath xlink:href=\"#arrow-0-14\" class=\"displacy-label\" startOffset=\"50%\" fill=\"currentColor\" text-anchor=\"middle\">compound</textPath>\n",
              "    </text>\n",
              "    <path class=\"displacy-arrowhead\" d=\"M2520,616.5 L2512,604.5 2528,604.5\" fill=\"currentColor\"/>\n",
              "</g>\n",
              "\n",
              "<g class=\"displacy-arrow\">\n",
              "    <path class=\"displacy-arc\" id=\"arrow-0-15\" stroke-width=\"2px\" d=\"M1470,614.5 C1470,89.5 2670.0,89.5 2670.0,614.5\" fill=\"none\" stroke=\"currentColor\"/>\n",
              "    <text dy=\"1.25em\" style=\"font-size: 0.8em; letter-spacing: 1px\">\n",
              "        <textPath xlink:href=\"#arrow-0-15\" class=\"displacy-label\" startOffset=\"50%\" fill=\"currentColor\" text-anchor=\"middle\">conj</textPath>\n",
              "    </text>\n",
              "    <path class=\"displacy-arrowhead\" d=\"M2670.0,616.5 L2678.0,604.5 2662.0,604.5\" fill=\"currentColor\"/>\n",
              "</g>\n",
              "\n",
              "<g class=\"displacy-arrow\">\n",
              "    <path class=\"displacy-arc\" id=\"arrow-0-16\" stroke-width=\"2px\" d=\"M2870,614.5 C2870,527.0 2995.0,527.0 2995.0,614.5\" fill=\"none\" stroke=\"currentColor\"/>\n",
              "    <text dy=\"1.25em\" style=\"font-size: 0.8em; letter-spacing: 1px\">\n",
              "        <textPath xlink:href=\"#arrow-0-16\" class=\"displacy-label\" startOffset=\"50%\" fill=\"currentColor\" text-anchor=\"middle\">expl</textPath>\n",
              "    </text>\n",
              "    <path class=\"displacy-arrowhead\" d=\"M2870,616.5 L2862,604.5 2878,604.5\" fill=\"currentColor\"/>\n",
              "</g>\n",
              "\n",
              "<g class=\"displacy-arrow\">\n",
              "    <path class=\"displacy-arc\" id=\"arrow-0-17\" stroke-width=\"2px\" d=\"M3220,614.5 C3220,527.0 3345.0,527.0 3345.0,614.5\" fill=\"none\" stroke=\"currentColor\"/>\n",
              "    <text dy=\"1.25em\" style=\"font-size: 0.8em; letter-spacing: 1px\">\n",
              "        <textPath xlink:href=\"#arrow-0-17\" class=\"displacy-label\" startOffset=\"50%\" fill=\"currentColor\" text-anchor=\"middle\">compound</textPath>\n",
              "    </text>\n",
              "    <path class=\"displacy-arrowhead\" d=\"M3220,616.5 L3212,604.5 3228,604.5\" fill=\"currentColor\"/>\n",
              "</g>\n",
              "\n",
              "<g class=\"displacy-arrow\">\n",
              "    <path class=\"displacy-arc\" id=\"arrow-0-18\" stroke-width=\"2px\" d=\"M3045,614.5 C3045,439.5 3350.0,439.5 3350.0,614.5\" fill=\"none\" stroke=\"currentColor\"/>\n",
              "    <text dy=\"1.25em\" style=\"font-size: 0.8em; letter-spacing: 1px\">\n",
              "        <textPath xlink:href=\"#arrow-0-18\" class=\"displacy-label\" startOffset=\"50%\" fill=\"currentColor\" text-anchor=\"middle\">dobj</textPath>\n",
              "    </text>\n",
              "    <path class=\"displacy-arrowhead\" d=\"M3350.0,616.5 L3358.0,604.5 3342.0,604.5\" fill=\"currentColor\"/>\n",
              "</g>\n",
              "</svg>"
            ],
            "text/plain": [
              "<IPython.core.display.HTML object>"
            ]
          },
          "metadata": {
            "tags": []
          }
        }
      ]
    },
    {
      "metadata": {
        "id": "bHjJGs-lxoyv",
        "colab_type": "text"
      },
      "cell_type": "markdown",
      "source": [
        "### Lemmatize *text*"
      ]
    },
    {
      "metadata": {
        "id": "ALv1HUYixbPW",
        "colab_type": "code",
        "colab": {}
      },
      "cell_type": "code",
      "source": [
        "def lemmatizing(tokenized_text):\n",
        "    doc = str(tokenized_text).replace('[','').replace(']','')\n",
        "    doc = nlp(doc)\n",
        "    text = [token.lemma_ for token in doc]\n",
        "    text = [w for w in text if w.isalpha() or w.isdigit()]\n",
        "\n",
        "    return text"
      ],
      "execution_count": 0,
      "outputs": []
    },
    {
      "metadata": {
        "id": "Bpp_rTF6ztHM",
        "colab_type": "code",
        "colab": {
          "base_uri": "https://localhost:8080/",
          "height": 347
        },
        "outputId": "715a65ee-4c3e-492d-dbc7-0163dc8f88e6"
      },
      "cell_type": "code",
      "source": [
        "data['text_lemmatized'] = data['text_nostop'].apply(lambda x: lemmatizing(x))\n",
        "\n",
        "data.head(5)"
      ],
      "execution_count": 31,
      "outputs": [
        {
          "output_type": "execute_result",
          "data": {
            "text/html": [
              "<div>\n",
              "<style scoped>\n",
              "    .dataframe tbody tr th:only-of-type {\n",
              "        vertical-align: middle;\n",
              "    }\n",
              "\n",
              "    .dataframe tbody tr th {\n",
              "        vertical-align: top;\n",
              "    }\n",
              "\n",
              "    .dataframe thead th {\n",
              "        text-align: right;\n",
              "    }\n",
              "</style>\n",
              "<table border=\"1\" class=\"dataframe\">\n",
              "  <thead>\n",
              "    <tr style=\"text-align: right;\">\n",
              "      <th></th>\n",
              "      <th>label</th>\n",
              "      <th>body_text</th>\n",
              "      <th>body_text_clean</th>\n",
              "      <th>tokens</th>\n",
              "      <th>text_nostop</th>\n",
              "      <th>text_lemmatized</th>\n",
              "    </tr>\n",
              "  </thead>\n",
              "  <tbody>\n",
              "    <tr>\n",
              "      <th>0</th>\n",
              "      <td>ham</td>\n",
              "      <td>Go until jurong point, crazy.. Available only in bugis n great world la e buffet... Cine there g...</td>\n",
              "      <td>go until jurong point crazy available only in bugis n great world la e buffet cine there got amo...</td>\n",
              "      <td>[go, until, jurong, point, crazy, available, only, in, bugis, n, great, world, la, e, buffet, ci...</td>\n",
              "      <td>[jurong, point, crazy, available, bugis, n, great, world, la, e, buffet, cine, got, amore, wat]</td>\n",
              "      <td>[jurong, point, crazy, available, bugis, n, great, world, la, e, buffet, cine, get, amore, wat]</td>\n",
              "    </tr>\n",
              "    <tr>\n",
              "      <th>1</th>\n",
              "      <td>ham</td>\n",
              "      <td>Ok lar... Joking wif u oni...</td>\n",
              "      <td>ok lar joking wif u oni</td>\n",
              "      <td>[ok, lar, joking, wif, u, oni]</td>\n",
              "      <td>[ok, lar, joking, wif, u, oni]</td>\n",
              "      <td>[ok, lar, joke, wif, u, oni]</td>\n",
              "    </tr>\n",
              "    <tr>\n",
              "      <th>2</th>\n",
              "      <td>spam</td>\n",
              "      <td>Free entry in 2 a wkly comp to win FA Cup final tkts 21st May 2005. Text FA to 87121 to receive ...</td>\n",
              "      <td>free entry in 2 a wkly comp to win fa cup final tkts 21st may 2005 text fa to 87121 to receive e...</td>\n",
              "      <td>[free, entry, in, 2, a, wkly, comp, to, win, fa, cup, final, tkts, 21st, may, 2005, text, fa, to...</td>\n",
              "      <td>[free, entry, 2, wkly, comp, win, fa, cup, final, tkts, 21st, 2005, text, fa, 87121, receive, en...</td>\n",
              "      <td>[free, entry, 2, wkly, comp, win, fa, cup, final, tkts, 2005, text, fa, 87121, receive, entry, q...</td>\n",
              "    </tr>\n",
              "    <tr>\n",
              "      <th>3</th>\n",
              "      <td>ham</td>\n",
              "      <td>U dun say so early hor... U c already then say...</td>\n",
              "      <td>u dun say so early hor u c already then say</td>\n",
              "      <td>[u, dun, say, so, early, hor, u, c, already, then, say]</td>\n",
              "      <td>[u, dun, early, hor, u, c]</td>\n",
              "      <td>[u, dun, early, hor, u, c]</td>\n",
              "    </tr>\n",
              "    <tr>\n",
              "      <th>4</th>\n",
              "      <td>ham</td>\n",
              "      <td>Nah I don't think he goes to usf, he lives around here though</td>\n",
              "      <td>nah i dont think he goes to usf he lives around here though</td>\n",
              "      <td>[nah, i, dont, think, he, goes, to, usf, he, lives, around, here, though]</td>\n",
              "      <td>[nah, dont, think, goes, usf, lives]</td>\n",
              "      <td>[nah, do, not, think, go, usf, live]</td>\n",
              "    </tr>\n",
              "  </tbody>\n",
              "</table>\n",
              "</div>"
            ],
            "text/plain": [
              "  label  \\\n",
              "0   ham   \n",
              "1   ham   \n",
              "2  spam   \n",
              "3   ham   \n",
              "4   ham   \n",
              "\n",
              "                                                                                             body_text  \\\n",
              "0  Go until jurong point, crazy.. Available only in bugis n great world la e buffet... Cine there g...   \n",
              "1                                                                        Ok lar... Joking wif u oni...   \n",
              "2  Free entry in 2 a wkly comp to win FA Cup final tkts 21st May 2005. Text FA to 87121 to receive ...   \n",
              "3                                                    U dun say so early hor... U c already then say...   \n",
              "4                                        Nah I don't think he goes to usf, he lives around here though   \n",
              "\n",
              "                                                                                       body_text_clean  \\\n",
              "0  go until jurong point crazy available only in bugis n great world la e buffet cine there got amo...   \n",
              "1                                                                              ok lar joking wif u oni   \n",
              "2  free entry in 2 a wkly comp to win fa cup final tkts 21st may 2005 text fa to 87121 to receive e...   \n",
              "3                                                          u dun say so early hor u c already then say   \n",
              "4                                          nah i dont think he goes to usf he lives around here though   \n",
              "\n",
              "                                                                                                tokens  \\\n",
              "0  [go, until, jurong, point, crazy, available, only, in, bugis, n, great, world, la, e, buffet, ci...   \n",
              "1                                                                       [ok, lar, joking, wif, u, oni]   \n",
              "2  [free, entry, in, 2, a, wkly, comp, to, win, fa, cup, final, tkts, 21st, may, 2005, text, fa, to...   \n",
              "3                                              [u, dun, say, so, early, hor, u, c, already, then, say]   \n",
              "4                            [nah, i, dont, think, he, goes, to, usf, he, lives, around, here, though]   \n",
              "\n",
              "                                                                                           text_nostop  \\\n",
              "0      [jurong, point, crazy, available, bugis, n, great, world, la, e, buffet, cine, got, amore, wat]   \n",
              "1                                                                       [ok, lar, joking, wif, u, oni]   \n",
              "2  [free, entry, 2, wkly, comp, win, fa, cup, final, tkts, 21st, 2005, text, fa, 87121, receive, en...   \n",
              "3                                                                           [u, dun, early, hor, u, c]   \n",
              "4                                                                 [nah, dont, think, goes, usf, lives]   \n",
              "\n",
              "                                                                                       text_lemmatized  \n",
              "0      [jurong, point, crazy, available, bugis, n, great, world, la, e, buffet, cine, get, amore, wat]  \n",
              "1                                                                         [ok, lar, joke, wif, u, oni]  \n",
              "2  [free, entry, 2, wkly, comp, win, fa, cup, final, tkts, 2005, text, fa, 87121, receive, entry, q...  \n",
              "3                                                                           [u, dun, early, hor, u, c]  \n",
              "4                                                                 [nah, do, not, think, go, usf, live]  "
            ]
          },
          "metadata": {
            "tags": []
          },
          "execution_count": 31
        }
      ]
    },
    {
      "metadata": {
        "id": "GXEdID7h69Kp",
        "colab_type": "text"
      },
      "cell_type": "markdown",
      "source": [
        "# Create the two new features"
      ]
    },
    {
      "metadata": {
        "id": "hPnqvyol682o",
        "colab_type": "code",
        "colab": {
          "base_uri": "https://localhost:8080/",
          "height": 397
        },
        "outputId": "bd237fbb-00f2-4827-adb3-d97281245bd0"
      },
      "cell_type": "code",
      "source": [
        "def count_punct(text):\n",
        "    count = sum([1 for char in text if char in string.punctuation])\n",
        "    return round(count/(len(text) - text.count(\" \")), 3)*100\n",
        "\n",
        "data['body_len'] = data['body_text'].apply(lambda x: len(x) - x.count(\" \"))\n",
        "data['punct%'] = data['body_text'].apply(lambda x: count_punct(x))\n",
        "data.head()"
      ],
      "execution_count": 32,
      "outputs": [
        {
          "output_type": "execute_result",
          "data": {
            "text/html": [
              "<div>\n",
              "<style scoped>\n",
              "    .dataframe tbody tr th:only-of-type {\n",
              "        vertical-align: middle;\n",
              "    }\n",
              "\n",
              "    .dataframe tbody tr th {\n",
              "        vertical-align: top;\n",
              "    }\n",
              "\n",
              "    .dataframe thead th {\n",
              "        text-align: right;\n",
              "    }\n",
              "</style>\n",
              "<table border=\"1\" class=\"dataframe\">\n",
              "  <thead>\n",
              "    <tr style=\"text-align: right;\">\n",
              "      <th></th>\n",
              "      <th>label</th>\n",
              "      <th>body_text</th>\n",
              "      <th>body_text_clean</th>\n",
              "      <th>tokens</th>\n",
              "      <th>text_nostop</th>\n",
              "      <th>text_lemmatized</th>\n",
              "      <th>body_len</th>\n",
              "      <th>punct%</th>\n",
              "    </tr>\n",
              "  </thead>\n",
              "  <tbody>\n",
              "    <tr>\n",
              "      <th>0</th>\n",
              "      <td>ham</td>\n",
              "      <td>Go until jurong point, crazy.. Available only in bugis n great world la e buffet... Cine there g...</td>\n",
              "      <td>go until jurong point crazy available only in bugis n great world la e buffet cine there got amo...</td>\n",
              "      <td>[go, until, jurong, point, crazy, available, only, in, bugis, n, great, world, la, e, buffet, ci...</td>\n",
              "      <td>[jurong, point, crazy, available, bugis, n, great, world, la, e, buffet, cine, got, amore, wat]</td>\n",
              "      <td>[jurong, point, crazy, available, bugis, n, great, world, la, e, buffet, cine, get, amore, wat]</td>\n",
              "      <td>92</td>\n",
              "      <td>9.8</td>\n",
              "    </tr>\n",
              "    <tr>\n",
              "      <th>1</th>\n",
              "      <td>ham</td>\n",
              "      <td>Ok lar... Joking wif u oni...</td>\n",
              "      <td>ok lar joking wif u oni</td>\n",
              "      <td>[ok, lar, joking, wif, u, oni]</td>\n",
              "      <td>[ok, lar, joking, wif, u, oni]</td>\n",
              "      <td>[ok, lar, joke, wif, u, oni]</td>\n",
              "      <td>24</td>\n",
              "      <td>25.0</td>\n",
              "    </tr>\n",
              "    <tr>\n",
              "      <th>2</th>\n",
              "      <td>spam</td>\n",
              "      <td>Free entry in 2 a wkly comp to win FA Cup final tkts 21st May 2005. Text FA to 87121 to receive ...</td>\n",
              "      <td>free entry in 2 a wkly comp to win fa cup final tkts 21st may 2005 text fa to 87121 to receive e...</td>\n",
              "      <td>[free, entry, in, 2, a, wkly, comp, to, win, fa, cup, final, tkts, 21st, may, 2005, text, fa, to...</td>\n",
              "      <td>[free, entry, 2, wkly, comp, win, fa, cup, final, tkts, 21st, 2005, text, fa, 87121, receive, en...</td>\n",
              "      <td>[free, entry, 2, wkly, comp, win, fa, cup, final, tkts, 2005, text, fa, 87121, receive, entry, q...</td>\n",
              "      <td>128</td>\n",
              "      <td>4.7</td>\n",
              "    </tr>\n",
              "    <tr>\n",
              "      <th>3</th>\n",
              "      <td>ham</td>\n",
              "      <td>U dun say so early hor... U c already then say...</td>\n",
              "      <td>u dun say so early hor u c already then say</td>\n",
              "      <td>[u, dun, say, so, early, hor, u, c, already, then, say]</td>\n",
              "      <td>[u, dun, early, hor, u, c]</td>\n",
              "      <td>[u, dun, early, hor, u, c]</td>\n",
              "      <td>39</td>\n",
              "      <td>15.4</td>\n",
              "    </tr>\n",
              "    <tr>\n",
              "      <th>4</th>\n",
              "      <td>ham</td>\n",
              "      <td>Nah I don't think he goes to usf, he lives around here though</td>\n",
              "      <td>nah i dont think he goes to usf he lives around here though</td>\n",
              "      <td>[nah, i, dont, think, he, goes, to, usf, he, lives, around, here, though]</td>\n",
              "      <td>[nah, dont, think, goes, usf, lives]</td>\n",
              "      <td>[nah, do, not, think, go, usf, live]</td>\n",
              "      <td>49</td>\n",
              "      <td>4.1</td>\n",
              "    </tr>\n",
              "  </tbody>\n",
              "</table>\n",
              "</div>"
            ],
            "text/plain": [
              "  label  \\\n",
              "0   ham   \n",
              "1   ham   \n",
              "2  spam   \n",
              "3   ham   \n",
              "4   ham   \n",
              "\n",
              "                                                                                             body_text  \\\n",
              "0  Go until jurong point, crazy.. Available only in bugis n great world la e buffet... Cine there g...   \n",
              "1                                                                        Ok lar... Joking wif u oni...   \n",
              "2  Free entry in 2 a wkly comp to win FA Cup final tkts 21st May 2005. Text FA to 87121 to receive ...   \n",
              "3                                                    U dun say so early hor... U c already then say...   \n",
              "4                                        Nah I don't think he goes to usf, he lives around here though   \n",
              "\n",
              "                                                                                       body_text_clean  \\\n",
              "0  go until jurong point crazy available only in bugis n great world la e buffet cine there got amo...   \n",
              "1                                                                              ok lar joking wif u oni   \n",
              "2  free entry in 2 a wkly comp to win fa cup final tkts 21st may 2005 text fa to 87121 to receive e...   \n",
              "3                                                          u dun say so early hor u c already then say   \n",
              "4                                          nah i dont think he goes to usf he lives around here though   \n",
              "\n",
              "                                                                                                tokens  \\\n",
              "0  [go, until, jurong, point, crazy, available, only, in, bugis, n, great, world, la, e, buffet, ci...   \n",
              "1                                                                       [ok, lar, joking, wif, u, oni]   \n",
              "2  [free, entry, in, 2, a, wkly, comp, to, win, fa, cup, final, tkts, 21st, may, 2005, text, fa, to...   \n",
              "3                                              [u, dun, say, so, early, hor, u, c, already, then, say]   \n",
              "4                            [nah, i, dont, think, he, goes, to, usf, he, lives, around, here, though]   \n",
              "\n",
              "                                                                                           text_nostop  \\\n",
              "0      [jurong, point, crazy, available, bugis, n, great, world, la, e, buffet, cine, got, amore, wat]   \n",
              "1                                                                       [ok, lar, joking, wif, u, oni]   \n",
              "2  [free, entry, 2, wkly, comp, win, fa, cup, final, tkts, 21st, 2005, text, fa, 87121, receive, en...   \n",
              "3                                                                           [u, dun, early, hor, u, c]   \n",
              "4                                                                 [nah, dont, think, goes, usf, lives]   \n",
              "\n",
              "                                                                                       text_lemmatized  \\\n",
              "0      [jurong, point, crazy, available, bugis, n, great, world, la, e, buffet, cine, get, amore, wat]   \n",
              "1                                                                         [ok, lar, joke, wif, u, oni]   \n",
              "2  [free, entry, 2, wkly, comp, win, fa, cup, final, tkts, 2005, text, fa, 87121, receive, entry, q...   \n",
              "3                                                                           [u, dun, early, hor, u, c]   \n",
              "4                                                                 [nah, do, not, think, go, usf, live]   \n",
              "\n",
              "   body_len  punct%  \n",
              "0        92     9.8  \n",
              "1        24    25.0  \n",
              "2       128     4.7  \n",
              "3        39    15.4  \n",
              "4        49     4.1  "
            ]
          },
          "metadata": {
            "tags": []
          },
          "execution_count": 32
        }
      ]
    },
    {
      "metadata": {
        "id": "1P6XjXEk7VWe",
        "colab_type": "code",
        "colab": {
          "base_uri": "https://localhost:8080/",
          "height": 280
        },
        "outputId": "15919db2-abd0-404e-cf28-0e50d696b07f"
      },
      "cell_type": "code",
      "source": [
        "bins = np.linspace(0, 200, 40)\n",
        "\n",
        "pl.hist(data['body_len'], bins)\n",
        "pl.title(\"Body Length Distribution\")\n",
        "pl.show()"
      ],
      "execution_count": 33,
      "outputs": [
        {
          "output_type": "display_data",
          "data": {
            "image/png": "[encoded data removed]",
            "text/plain": [
              "<matplotlib.figure.Figure at 0x7f542481d588>"
            ]
          },
          "metadata": {
            "tags": []
          }
        }
      ]
    },
    {
      "metadata": {
        "id": "9DCjI50L7rhl",
        "colab_type": "code",
        "colab": {
          "base_uri": "https://localhost:8080/",
          "height": 280
        },
        "outputId": "18e6c5a0-9ac5-47b2-e476-b05f610a430b"
      },
      "cell_type": "code",
      "source": [
        "bins = np.linspace(0, 50, 40)\n",
        "\n",
        "pl.hist(data['punct%'], bins)\n",
        "pl.title(\"Punctuation % Distribution\")\n",
        "pl.show()"
      ],
      "execution_count": 34,
      "outputs": [
        {
          "output_type": "display_data",
          "data": {
            "image/png": "[encoded data removed]",
            "text/plain": [
              "<matplotlib.figure.Figure at 0x7f54247b4dd8>"
            ]
          },
          "metadata": {
            "tags": []
          }
        }
      ]
    },
    {
      "metadata": {
        "id": "IoXTqvTn9YmL",
        "colab_type": "code",
        "colab": {
          "base_uri": "https://localhost:8080/",
          "height": 174
        },
        "outputId": "98bbb6c0-671d-4a29-9919-3aa01e155d31"
      },
      "cell_type": "code",
      "source": [
        "display(data.head(2))"
      ],
      "execution_count": 35,
      "outputs": [
        {
          "output_type": "display_data",
          "data": {
            "text/html": [
              "<div>\n",
              "<style scoped>\n",
              "    .dataframe tbody tr th:only-of-type {\n",
              "        vertical-align: middle;\n",
              "    }\n",
              "\n",
              "    .dataframe tbody tr th {\n",
              "        vertical-align: top;\n",
              "    }\n",
              "\n",
              "    .dataframe thead th {\n",
              "        text-align: right;\n",
              "    }\n",
              "</style>\n",
              "<table border=\"1\" class=\"dataframe\">\n",
              "  <thead>\n",
              "    <tr style=\"text-align: right;\">\n",
              "      <th></th>\n",
              "      <th>label</th>\n",
              "      <th>body_text</th>\n",
              "      <th>body_text_clean</th>\n",
              "      <th>tokens</th>\n",
              "      <th>text_nostop</th>\n",
              "      <th>text_lemmatized</th>\n",
              "      <th>body_len</th>\n",
              "      <th>punct%</th>\n",
              "    </tr>\n",
              "  </thead>\n",
              "  <tbody>\n",
              "    <tr>\n",
              "      <th>0</th>\n",
              "      <td>ham</td>\n",
              "      <td>Go until jurong point, crazy.. Available only in bugis n great world la e buffet... Cine there g...</td>\n",
              "      <td>go until jurong point crazy available only in bugis n great world la e buffet cine there got amo...</td>\n",
              "      <td>[go, until, jurong, point, crazy, available, only, in, bugis, n, great, world, la, e, buffet, ci...</td>\n",
              "      <td>[jurong, point, crazy, available, bugis, n, great, world, la, e, buffet, cine, got, amore, wat]</td>\n",
              "      <td>[jurong, point, crazy, available, bugis, n, great, world, la, e, buffet, cine, get, amore, wat]</td>\n",
              "      <td>92</td>\n",
              "      <td>9.8</td>\n",
              "    </tr>\n",
              "    <tr>\n",
              "      <th>1</th>\n",
              "      <td>ham</td>\n",
              "      <td>Ok lar... Joking wif u oni...</td>\n",
              "      <td>ok lar joking wif u oni</td>\n",
              "      <td>[ok, lar, joking, wif, u, oni]</td>\n",
              "      <td>[ok, lar, joking, wif, u, oni]</td>\n",
              "      <td>[ok, lar, joke, wif, u, oni]</td>\n",
              "      <td>24</td>\n",
              "      <td>25.0</td>\n",
              "    </tr>\n",
              "  </tbody>\n",
              "</table>\n",
              "</div>"
            ],
            "text/plain": [
              "  label  \\\n",
              "0   ham   \n",
              "1   ham   \n",
              "\n",
              "                                                                                             body_text  \\\n",
              "0  Go until jurong point, crazy.. Available only in bugis n great world la e buffet... Cine there g...   \n",
              "1                                                                        Ok lar... Joking wif u oni...   \n",
              "\n",
              "                                                                                       body_text_clean  \\\n",
              "0  go until jurong point crazy available only in bugis n great world la e buffet cine there got amo...   \n",
              "1                                                                              ok lar joking wif u oni   \n",
              "\n",
              "                                                                                                tokens  \\\n",
              "0  [go, until, jurong, point, crazy, available, only, in, bugis, n, great, world, la, e, buffet, ci...   \n",
              "1                                                                       [ok, lar, joking, wif, u, oni]   \n",
              "\n",
              "                                                                                       text_nostop  \\\n",
              "0  [jurong, point, crazy, available, bugis, n, great, world, la, e, buffet, cine, got, amore, wat]   \n",
              "1                                                                   [ok, lar, joking, wif, u, oni]   \n",
              "\n",
              "                                                                                   text_lemmatized  \\\n",
              "0  [jurong, point, crazy, available, bugis, n, great, world, la, e, buffet, cine, get, amore, wat]   \n",
              "1                                                                     [ok, lar, joke, wif, u, oni]   \n",
              "\n",
              "   body_len  punct%  \n",
              "0        92     9.8  \n",
              "1        24    25.0  "
            ]
          },
          "metadata": {
            "tags": []
          }
        }
      ]
    },
    {
      "metadata": {
        "id": "6s9KP5LV81gY",
        "colab_type": "text"
      },
      "cell_type": "markdown",
      "source": [
        "# Normalizing Numerical Features\n"
      ]
    },
    {
      "metadata": {
        "id": "MwoBG-Ns87oV",
        "colab_type": "code",
        "colab": {
          "base_uri": "https://localhost:8080/",
          "height": 397
        },
        "outputId": "05450d34-0fbd-4a1e-e881-68b9a28160c6"
      },
      "cell_type": "code",
      "source": [
        "# preprocessing.StandardScaler\n",
        "from sklearn.preprocessing import MinMaxScaler\n",
        "\n",
        "# Initialize a scaler, then apply it to the features\n",
        "scaler = MinMaxScaler() # default=(0, 1)\n",
        "numerical = ['body_len', 'punct%']\n",
        "\n",
        "data[numerical] = scaler.fit_transform(data[numerical])\n",
        "\n",
        "# Show an example of a record with scaling applied\n",
        "display(data.head(n = 5))"
      ],
      "execution_count": 36,
      "outputs": [
        {
          "output_type": "display_data",
          "data": {
            "text/html": [
              "<div>\n",
              "<style scoped>\n",
              "    .dataframe tbody tr th:only-of-type {\n",
              "        vertical-align: middle;\n",
              "    }\n",
              "\n",
              "    .dataframe tbody tr th {\n",
              "        vertical-align: top;\n",
              "    }\n",
              "\n",
              "    .dataframe thead th {\n",
              "        text-align: right;\n",
              "    }\n",
              "</style>\n",
              "<table border=\"1\" class=\"dataframe\">\n",
              "  <thead>\n",
              "    <tr style=\"text-align: right;\">\n",
              "      <th></th>\n",
              "      <th>label</th>\n",
              "      <th>body_text</th>\n",
              "      <th>body_text_clean</th>\n",
              "      <th>tokens</th>\n",
              "      <th>text_nostop</th>\n",
              "      <th>text_lemmatized</th>\n",
              "      <th>body_len</th>\n",
              "      <th>punct%</th>\n",
              "    </tr>\n",
              "  </thead>\n",
              "  <tbody>\n",
              "    <tr>\n",
              "      <th>0</th>\n",
              "      <td>ham</td>\n",
              "      <td>Go until jurong point, crazy.. Available only in bugis n great world la e buffet... Cine there g...</td>\n",
              "      <td>go until jurong point crazy available only in bugis n great world la e buffet cine there got amo...</td>\n",
              "      <td>[go, until, jurong, point, crazy, available, only, in, bugis, n, great, world, la, e, buffet, ci...</td>\n",
              "      <td>[jurong, point, crazy, available, bugis, n, great, world, la, e, buffet, cine, got, amore, wat]</td>\n",
              "      <td>[jurong, point, crazy, available, bugis, n, great, world, la, e, buffet, cine, get, amore, wat]</td>\n",
              "      <td>0.121951</td>\n",
              "      <td>0.098</td>\n",
              "    </tr>\n",
              "    <tr>\n",
              "      <th>1</th>\n",
              "      <td>ham</td>\n",
              "      <td>Ok lar... Joking wif u oni...</td>\n",
              "      <td>ok lar joking wif u oni</td>\n",
              "      <td>[ok, lar, joking, wif, u, oni]</td>\n",
              "      <td>[ok, lar, joking, wif, u, oni]</td>\n",
              "      <td>[ok, lar, joke, wif, u, oni]</td>\n",
              "      <td>0.029810</td>\n",
              "      <td>0.250</td>\n",
              "    </tr>\n",
              "    <tr>\n",
              "      <th>2</th>\n",
              "      <td>spam</td>\n",
              "      <td>Free entry in 2 a wkly comp to win FA Cup final tkts 21st May 2005. Text FA to 87121 to receive ...</td>\n",
              "      <td>free entry in 2 a wkly comp to win fa cup final tkts 21st may 2005 text fa to 87121 to receive e...</td>\n",
              "      <td>[free, entry, in, 2, a, wkly, comp, to, win, fa, cup, final, tkts, 21st, may, 2005, text, fa, to...</td>\n",
              "      <td>[free, entry, 2, wkly, comp, win, fa, cup, final, tkts, 21st, 2005, text, fa, 87121, receive, en...</td>\n",
              "      <td>[free, entry, 2, wkly, comp, win, fa, cup, final, tkts, 2005, text, fa, 87121, receive, entry, q...</td>\n",
              "      <td>0.170732</td>\n",
              "      <td>0.047</td>\n",
              "    </tr>\n",
              "    <tr>\n",
              "      <th>3</th>\n",
              "      <td>ham</td>\n",
              "      <td>U dun say so early hor... U c already then say...</td>\n",
              "      <td>u dun say so early hor u c already then say</td>\n",
              "      <td>[u, dun, say, so, early, hor, u, c, already, then, say]</td>\n",
              "      <td>[u, dun, early, hor, u, c]</td>\n",
              "      <td>[u, dun, early, hor, u, c]</td>\n",
              "      <td>0.050136</td>\n",
              "      <td>0.154</td>\n",
              "    </tr>\n",
              "    <tr>\n",
              "      <th>4</th>\n",
              "      <td>ham</td>\n",
              "      <td>Nah I don't think he goes to usf, he lives around here though</td>\n",
              "      <td>nah i dont think he goes to usf he lives around here though</td>\n",
              "      <td>[nah, i, dont, think, he, goes, to, usf, he, lives, around, here, though]</td>\n",
              "      <td>[nah, dont, think, goes, usf, lives]</td>\n",
              "      <td>[nah, do, not, think, go, usf, live]</td>\n",
              "      <td>0.063686</td>\n",
              "      <td>0.041</td>\n",
              "    </tr>\n",
              "  </tbody>\n",
              "</table>\n",
              "</div>"
            ],
            "text/plain": [
              "  label  \\\n",
              "0   ham   \n",
              "1   ham   \n",
              "2  spam   \n",
              "3   ham   \n",
              "4   ham   \n",
              "\n",
              "                                                                                             body_text  \\\n",
              "0  Go until jurong point, crazy.. Available only in bugis n great world la e buffet... Cine there g...   \n",
              "1                                                                        Ok lar... Joking wif u oni...   \n",
              "2  Free entry in 2 a wkly comp to win FA Cup final tkts 21st May 2005. Text FA to 87121 to receive ...   \n",
              "3                                                    U dun say so early hor... U c already then say...   \n",
              "4                                        Nah I don't think he goes to usf, he lives around here though   \n",
              "\n",
              "                                                                                       body_text_clean  \\\n",
              "0  go until jurong point crazy available only in bugis n great world la e buffet cine there got amo...   \n",
              "1                                                                              ok lar joking wif u oni   \n",
              "2  free entry in 2 a wkly comp to win fa cup final tkts 21st may 2005 text fa to 87121 to receive e...   \n",
              "3                                                          u dun say so early hor u c already then say   \n",
              "4                                          nah i dont think he goes to usf he lives around here though   \n",
              "\n",
              "                                                                                                tokens  \\\n",
              "0  [go, until, jurong, point, crazy, available, only, in, bugis, n, great, world, la, e, buffet, ci...   \n",
              "1                                                                       [ok, lar, joking, wif, u, oni]   \n",
              "2  [free, entry, in, 2, a, wkly, comp, to, win, fa, cup, final, tkts, 21st, may, 2005, text, fa, to...   \n",
              "3                                              [u, dun, say, so, early, hor, u, c, already, then, say]   \n",
              "4                            [nah, i, dont, think, he, goes, to, usf, he, lives, around, here, though]   \n",
              "\n",
              "                                                                                           text_nostop  \\\n",
              "0      [jurong, point, crazy, available, bugis, n, great, world, la, e, buffet, cine, got, amore, wat]   \n",
              "1                                                                       [ok, lar, joking, wif, u, oni]   \n",
              "2  [free, entry, 2, wkly, comp, win, fa, cup, final, tkts, 21st, 2005, text, fa, 87121, receive, en...   \n",
              "3                                                                           [u, dun, early, hor, u, c]   \n",
              "4                                                                 [nah, dont, think, goes, usf, lives]   \n",
              "\n",
              "                                                                                       text_lemmatized  \\\n",
              "0      [jurong, point, crazy, available, bugis, n, great, world, la, e, buffet, cine, get, amore, wat]   \n",
              "1                                                                         [ok, lar, joke, wif, u, oni]   \n",
              "2  [free, entry, 2, wkly, comp, win, fa, cup, final, tkts, 2005, text, fa, 87121, receive, entry, q...   \n",
              "3                                                                           [u, dun, early, hor, u, c]   \n",
              "4                                                                 [nah, do, not, think, go, usf, live]   \n",
              "\n",
              "   body_len  punct%  \n",
              "0  0.121951   0.098  \n",
              "1  0.029810   0.250  \n",
              "2  0.170732   0.047  \n",
              "3  0.050136   0.154  \n",
              "4  0.063686   0.041  "
            ]
          },
          "metadata": {
            "tags": []
          }
        }
      ]
    },
    {
      "metadata": {
        "id": "TV0vo8GdLbnI",
        "colab_type": "code",
        "colab": {
          "base_uri": "https://localhost:8080/",
          "height": 33
        },
        "outputId": "aee8d216-d7b0-4f76-d18a-380c284db0ad"
      },
      "cell_type": "code",
      "source": [
        "# save data after normlize it in pkl file to use it latter \n",
        "joblib.dump(scaler, 'scalr.pkl')\n"
      ],
      "execution_count": 37,
      "outputs": [
        {
          "output_type": "execute_result",
          "data": {
            "text/plain": [
              "['scalr.pkl']"
            ]
          },
          "metadata": {
            "tags": []
          },
          "execution_count": 37
        }
      ]
    },
    {
      "metadata": {
        "id": "z-RdVGO490X4",
        "colab_type": "code",
        "colab": {}
      },
      "cell_type": "code",
      "source": [
        "# convert label to number before aplly ML algorithms\n",
        "label_map = {'spam': 1, 'ham': 0}\n",
        "data['label'] = data['label'].map(label_map)"
      ],
      "execution_count": 0,
      "outputs": []
    },
    {
      "metadata": {
        "id": "-m7BOY5P-pV_",
        "colab_type": "code",
        "colab": {
          "base_uri": "https://localhost:8080/",
          "height": 287
        },
        "outputId": "65077e64-3e5f-43a7-9019-8f593ac4e1f1"
      },
      "cell_type": "code",
      "source": [
        "display(data.head(3))"
      ],
      "execution_count": 39,
      "outputs": [
        {
          "output_type": "display_data",
          "data": {
            "text/html": [
              "<div>\n",
              "<style scoped>\n",
              "    .dataframe tbody tr th:only-of-type {\n",
              "        vertical-align: middle;\n",
              "    }\n",
              "\n",
              "    .dataframe tbody tr th {\n",
              "        vertical-align: top;\n",
              "    }\n",
              "\n",
              "    .dataframe thead th {\n",
              "        text-align: right;\n",
              "    }\n",
              "</style>\n",
              "<table border=\"1\" class=\"dataframe\">\n",
              "  <thead>\n",
              "    <tr style=\"text-align: right;\">\n",
              "      <th></th>\n",
              "      <th>label</th>\n",
              "      <th>body_text</th>\n",
              "      <th>body_text_clean</th>\n",
              "      <th>tokens</th>\n",
              "      <th>text_nostop</th>\n",
              "      <th>text_lemmatized</th>\n",
              "      <th>body_len</th>\n",
              "      <th>punct%</th>\n",
              "    </tr>\n",
              "  </thead>\n",
              "  <tbody>\n",
              "    <tr>\n",
              "      <th>0</th>\n",
              "      <td>0</td>\n",
              "      <td>Go until jurong point, crazy.. Available only in bugis n great world la e buffet... Cine there g...</td>\n",
              "      <td>go until jurong point crazy available only in bugis n great world la e buffet cine there got amo...</td>\n",
              "      <td>[go, until, jurong, point, crazy, available, only, in, bugis, n, great, world, la, e, buffet, ci...</td>\n",
              "      <td>[jurong, point, crazy, available, bugis, n, great, world, la, e, buffet, cine, got, amore, wat]</td>\n",
              "      <td>[jurong, point, crazy, available, bugis, n, great, world, la, e, buffet, cine, get, amore, wat]</td>\n",
              "      <td>0.121951</td>\n",
              "      <td>0.098</td>\n",
              "    </tr>\n",
              "    <tr>\n",
              "      <th>1</th>\n",
              "      <td>0</td>\n",
              "      <td>Ok lar... Joking wif u oni...</td>\n",
              "      <td>ok lar joking wif u oni</td>\n",
              "      <td>[ok, lar, joking, wif, u, oni]</td>\n",
              "      <td>[ok, lar, joking, wif, u, oni]</td>\n",
              "      <td>[ok, lar, joke, wif, u, oni]</td>\n",
              "      <td>0.029810</td>\n",
              "      <td>0.250</td>\n",
              "    </tr>\n",
              "    <tr>\n",
              "      <th>2</th>\n",
              "      <td>1</td>\n",
              "      <td>Free entry in 2 a wkly comp to win FA Cup final tkts 21st May 2005. Text FA to 87121 to receive ...</td>\n",
              "      <td>free entry in 2 a wkly comp to win fa cup final tkts 21st may 2005 text fa to 87121 to receive e...</td>\n",
              "      <td>[free, entry, in, 2, a, wkly, comp, to, win, fa, cup, final, tkts, 21st, may, 2005, text, fa, to...</td>\n",
              "      <td>[free, entry, 2, wkly, comp, win, fa, cup, final, tkts, 21st, 2005, text, fa, 87121, receive, en...</td>\n",
              "      <td>[free, entry, 2, wkly, comp, win, fa, cup, final, tkts, 2005, text, fa, 87121, receive, entry, q...</td>\n",
              "      <td>0.170732</td>\n",
              "      <td>0.047</td>\n",
              "    </tr>\n",
              "  </tbody>\n",
              "</table>\n",
              "</div>"
            ],
            "text/plain": [
              "   label  \\\n",
              "0      0   \n",
              "1      0   \n",
              "2      1   \n",
              "\n",
              "                                                                                             body_text  \\\n",
              "0  Go until jurong point, crazy.. Available only in bugis n great world la e buffet... Cine there g...   \n",
              "1                                                                        Ok lar... Joking wif u oni...   \n",
              "2  Free entry in 2 a wkly comp to win FA Cup final tkts 21st May 2005. Text FA to 87121 to receive ...   \n",
              "\n",
              "                                                                                       body_text_clean  \\\n",
              "0  go until jurong point crazy available only in bugis n great world la e buffet cine there got amo...   \n",
              "1                                                                              ok lar joking wif u oni   \n",
              "2  free entry in 2 a wkly comp to win fa cup final tkts 21st may 2005 text fa to 87121 to receive e...   \n",
              "\n",
              "                                                                                                tokens  \\\n",
              "0  [go, until, jurong, point, crazy, available, only, in, bugis, n, great, world, la, e, buffet, ci...   \n",
              "1                                                                       [ok, lar, joking, wif, u, oni]   \n",
              "2  [free, entry, in, 2, a, wkly, comp, to, win, fa, cup, final, tkts, 21st, may, 2005, text, fa, to...   \n",
              "\n",
              "                                                                                           text_nostop  \\\n",
              "0      [jurong, point, crazy, available, bugis, n, great, world, la, e, buffet, cine, got, amore, wat]   \n",
              "1                                                                       [ok, lar, joking, wif, u, oni]   \n",
              "2  [free, entry, 2, wkly, comp, win, fa, cup, final, tkts, 21st, 2005, text, fa, 87121, receive, en...   \n",
              "\n",
              "                                                                                       text_lemmatized  \\\n",
              "0      [jurong, point, crazy, available, bugis, n, great, world, la, e, buffet, cine, get, amore, wat]   \n",
              "1                                                                         [ok, lar, joke, wif, u, oni]   \n",
              "2  [free, entry, 2, wkly, comp, win, fa, cup, final, tkts, 2005, text, fa, 87121, receive, entry, q...   \n",
              "\n",
              "   body_len  punct%  \n",
              "0  0.121951   0.098  \n",
              "1  0.029810   0.250  \n",
              "2  0.170732   0.047  "
            ]
          },
          "metadata": {
            "tags": []
          }
        }
      ]
    },
    {
      "metadata": {
        "id": "duqbqsXyAWnn",
        "colab_type": "text"
      },
      "cell_type": "markdown",
      "source": [
        "# Shuffle and Split Data\n",
        "\n",
        "Now all categorical variables have been converted into numerical features, and all numerical features have been normalized. As always, we will now split the data (both features and their labels) into training and test sets. 80% of the data will be used for training and 20% for testing.\n",
        "\n",
        "\n"
      ]
    },
    {
      "metadata": {
        "id": "PEXAZOKyA6sj",
        "colab_type": "code",
        "colab": {}
      },
      "cell_type": "code",
      "source": [
        "features_final = data[['text_lemmatized', 'body_len', 'punct%']]\n",
        "label = data['label']"
      ],
      "execution_count": 0,
      "outputs": []
    },
    {
      "metadata": {
        "id": "8c-Qajy4AmWw",
        "colab_type": "code",
        "colab": {
          "base_uri": "https://localhost:8080/",
          "height": 103
        },
        "outputId": "3772b215-9ad0-4677-8fd8-482af59f5cd8"
      },
      "cell_type": "code",
      "source": [
        "# Import train_test_split\n",
        "from sklearn.cross_validation import train_test_split\n",
        "\n",
        "# Split the 'features' and 'income' data into training and testing sets\n",
        "X_train, X_test, y_train, y_test = train_test_split(features_final, \n",
        "                                                    label, \n",
        "                                                    test_size = 0.2, \n",
        "                                                    random_state = 0)\n",
        "\n",
        "# Show the results of the split\n",
        "print(\"Training set has {} samples.\".format(X_train.shape[0]))\n",
        "print(\"Testing set has {} samples.\".format(X_test.shape[0]))"
      ],
      "execution_count": 41,
      "outputs": [
        {
          "output_type": "stream",
          "text": [
            "Training set has 4457 samples.\n",
            "Testing set has 1115 samples.\n"
          ],
          "name": "stdout"
        },
        {
          "output_type": "stream",
          "text": [
            "/usr/local/lib/python3.6/dist-packages/sklearn/cross_validation.py:41: DeprecationWarning: This module was deprecated in version 0.18 in favor of the model_selection module into which all the refactored classes and functions are moved. Also note that the interface of the new CV iterators are different from that of this module. This module will be removed in 0.20.\n",
            "  \"This module will be removed in 0.20.\", DeprecationWarning)\n"
          ],
          "name": "stderr"
        }
      ]
    },
    {
      "metadata": {
        "id": "iar9dh7WAQ0U",
        "colab_type": "text"
      },
      "cell_type": "markdown",
      "source": [
        "### Vectorize text"
      ]
    },
    {
      "metadata": {
        "id": "ST4Qbt0HDfkw",
        "colab_type": "code",
        "colab": {}
      },
      "cell_type": "code",
      "source": [
        "# conver 'text_lemmatized' col from list to string to apply TfidfVectorizer on it\n",
        "def tostring(text):\n",
        "  doc = str(text).replace('[','').replace(']','')\n",
        "  return doc\n",
        "\n",
        "  "
      ],
      "execution_count": 0,
      "outputs": []
    },
    {
      "metadata": {
        "id": "MqgY_Vtz-w74",
        "colab_type": "code",
        "colab": {
          "base_uri": "https://localhost:8080/",
          "height": 246
        },
        "outputId": "97d66788-a94e-4536-ac67-743f90cbac31"
      },
      "cell_type": "code",
      "source": [
        "from sklearn.feature_extraction.text import TfidfVectorizer\n",
        "\n",
        "\n",
        "tfidf_vect = TfidfVectorizer(analyzer = tostring)\n",
        "tfidf_vect_fit = tfidf_vect.fit(X_train['text_lemmatized'])\n",
        "\n",
        "tfidf_train = tfidf_vect_fit.transform(X_train['text_lemmatized'])\n",
        "tfidf_test = tfidf_vect_fit.transform(X_test['text_lemmatized'])\n",
        "\n",
        "X_train_vect = pd.concat([X_train[['body_len', 'punct%']].reset_index(drop=True), \n",
        "           pd.DataFrame(tfidf_train.toarray())], axis=1)\n",
        "X_test_vect = pd.concat([X_test[['body_len', 'punct%']].reset_index(drop=True), \n",
        "           pd.DataFrame(tfidf_test.toarray())], axis=1)\n",
        "\n",
        "display(X_train_vect.head())"
      ],
      "execution_count": 43,
      "outputs": [
        {
          "output_type": "display_data",
          "data": {
            "text/html": [
              "<div>\n",
              "<style scoped>\n",
              "    .dataframe tbody tr th:only-of-type {\n",
              "        vertical-align: middle;\n",
              "    }\n",
              "\n",
              "    .dataframe tbody tr th {\n",
              "        vertical-align: top;\n",
              "    }\n",
              "\n",
              "    .dataframe thead th {\n",
              "        text-align: right;\n",
              "    }\n",
              "</style>\n",
              "<table border=\"1\" class=\"dataframe\">\n",
              "  <thead>\n",
              "    <tr style=\"text-align: right;\">\n",
              "      <th></th>\n",
              "      <th>body_len</th>\n",
              "      <th>punct%</th>\n",
              "      <th>0</th>\n",
              "      <th>1</th>\n",
              "      <th>2</th>\n",
              "      <th>3</th>\n",
              "      <th>4</th>\n",
              "      <th>5</th>\n",
              "      <th>6</th>\n",
              "      <th>7</th>\n",
              "      <th>...</th>\n",
              "      <th>34</th>\n",
              "      <th>35</th>\n",
              "      <th>36</th>\n",
              "      <th>37</th>\n",
              "      <th>38</th>\n",
              "      <th>39</th>\n",
              "      <th>40</th>\n",
              "      <th>41</th>\n",
              "      <th>42</th>\n",
              "      <th>43</th>\n",
              "    </tr>\n",
              "  </thead>\n",
              "  <tbody>\n",
              "    <tr>\n",
              "      <th>0</th>\n",
              "      <td>0.060976</td>\n",
              "      <td>0.064</td>\n",
              "      <td>0.292927</td>\n",
              "      <td>0.685271</td>\n",
              "      <td>0.292927</td>\n",
              "      <td>0.00000</td>\n",
              "      <td>0.0</td>\n",
              "      <td>0.0</td>\n",
              "      <td>0.000000</td>\n",
              "      <td>0.0</td>\n",
              "      <td>...</td>\n",
              "      <td>0.253111</td>\n",
              "      <td>0.000000</td>\n",
              "      <td>0.0</td>\n",
              "      <td>0.000000</td>\n",
              "      <td>0.0</td>\n",
              "      <td>0.0</td>\n",
              "      <td>0.0</td>\n",
              "      <td>0.0</td>\n",
              "      <td>0.0</td>\n",
              "      <td>0.0</td>\n",
              "    </tr>\n",
              "    <tr>\n",
              "      <th>1</th>\n",
              "      <td>0.078591</td>\n",
              "      <td>0.033</td>\n",
              "      <td>0.281952</td>\n",
              "      <td>0.641275</td>\n",
              "      <td>0.281952</td>\n",
              "      <td>0.00000</td>\n",
              "      <td>0.0</td>\n",
              "      <td>0.0</td>\n",
              "      <td>0.000000</td>\n",
              "      <td>0.0</td>\n",
              "      <td>...</td>\n",
              "      <td>0.000000</td>\n",
              "      <td>0.078569</td>\n",
              "      <td>0.0</td>\n",
              "      <td>0.073026</td>\n",
              "      <td>0.0</td>\n",
              "      <td>0.0</td>\n",
              "      <td>0.0</td>\n",
              "      <td>0.0</td>\n",
              "      <td>0.0</td>\n",
              "      <td>0.0</td>\n",
              "    </tr>\n",
              "    <tr>\n",
              "      <th>2</th>\n",
              "      <td>0.073171</td>\n",
              "      <td>0.089</td>\n",
              "      <td>0.286581</td>\n",
              "      <td>0.670427</td>\n",
              "      <td>0.286581</td>\n",
              "      <td>0.17959</td>\n",
              "      <td>0.0</td>\n",
              "      <td>0.0</td>\n",
              "      <td>0.204484</td>\n",
              "      <td>0.0</td>\n",
              "      <td>...</td>\n",
              "      <td>0.000000</td>\n",
              "      <td>0.000000</td>\n",
              "      <td>0.0</td>\n",
              "      <td>0.089070</td>\n",
              "      <td>0.0</td>\n",
              "      <td>0.0</td>\n",
              "      <td>0.0</td>\n",
              "      <td>0.0</td>\n",
              "      <td>0.0</td>\n",
              "      <td>0.0</td>\n",
              "    </tr>\n",
              "    <tr>\n",
              "      <th>3</th>\n",
              "      <td>0.043360</td>\n",
              "      <td>0.059</td>\n",
              "      <td>0.257121</td>\n",
              "      <td>0.668343</td>\n",
              "      <td>0.257121</td>\n",
              "      <td>0.00000</td>\n",
              "      <td>0.0</td>\n",
              "      <td>0.0</td>\n",
              "      <td>0.000000</td>\n",
              "      <td>0.0</td>\n",
              "      <td>...</td>\n",
              "      <td>0.000000</td>\n",
              "      <td>0.143299</td>\n",
              "      <td>0.0</td>\n",
              "      <td>0.000000</td>\n",
              "      <td>0.0</td>\n",
              "      <td>0.0</td>\n",
              "      <td>0.0</td>\n",
              "      <td>0.0</td>\n",
              "      <td>0.0</td>\n",
              "      <td>0.0</td>\n",
              "    </tr>\n",
              "    <tr>\n",
              "      <th>4</th>\n",
              "      <td>0.032520</td>\n",
              "      <td>0.115</td>\n",
              "      <td>0.000000</td>\n",
              "      <td>0.605601</td>\n",
              "      <td>0.000000</td>\n",
              "      <td>0.00000</td>\n",
              "      <td>0.0</td>\n",
              "      <td>0.0</td>\n",
              "      <td>0.000000</td>\n",
              "      <td>0.0</td>\n",
              "      <td>...</td>\n",
              "      <td>0.000000</td>\n",
              "      <td>0.000000</td>\n",
              "      <td>0.0</td>\n",
              "      <td>0.482744</td>\n",
              "      <td>0.0</td>\n",
              "      <td>0.0</td>\n",
              "      <td>0.0</td>\n",
              "      <td>0.0</td>\n",
              "      <td>0.0</td>\n",
              "      <td>0.0</td>\n",
              "    </tr>\n",
              "  </tbody>\n",
              "</table>\n",
              "<p>5 rows × 46 columns</p>\n",
              "</div>"
            ],
            "text/plain": [
              "   body_len  punct%         0         1         2        3    4    5  \\\n",
              "0  0.060976   0.064  0.292927  0.685271  0.292927  0.00000  0.0  0.0   \n",
              "1  0.078591   0.033  0.281952  0.641275  0.281952  0.00000  0.0  0.0   \n",
              "2  0.073171   0.089  0.286581  0.670427  0.286581  0.17959  0.0  0.0   \n",
              "3  0.043360   0.059  0.257121  0.668343  0.257121  0.00000  0.0  0.0   \n",
              "4  0.032520   0.115  0.000000  0.605601  0.000000  0.00000  0.0  0.0   \n",
              "\n",
              "          6    7 ...         34        35   36        37   38   39   40   41  \\\n",
              "0  0.000000  0.0 ...   0.253111  0.000000  0.0  0.000000  0.0  0.0  0.0  0.0   \n",
              "1  0.000000  0.0 ...   0.000000  0.078569  0.0  0.073026  0.0  0.0  0.0  0.0   \n",
              "2  0.204484  0.0 ...   0.000000  0.000000  0.0  0.089070  0.0  0.0  0.0  0.0   \n",
              "3  0.000000  0.0 ...   0.000000  0.143299  0.0  0.000000  0.0  0.0  0.0  0.0   \n",
              "4  0.000000  0.0 ...   0.000000  0.000000  0.0  0.482744  0.0  0.0  0.0  0.0   \n",
              "\n",
              "    42   43  \n",
              "0  0.0  0.0  \n",
              "1  0.0  0.0  \n",
              "2  0.0  0.0  \n",
              "3  0.0  0.0  \n",
              "4  0.0  0.0  \n",
              "\n",
              "[5 rows x 46 columns]"
            ]
          },
          "metadata": {
            "tags": []
          }
        }
      ]
    },
    {
      "metadata": {
        "id": "XMywQSifJGmd",
        "colab_type": "text"
      },
      "cell_type": "markdown",
      "source": [
        "# save my vectorize text in pkl file to use it later without make previous step"
      ]
    },
    {
      "metadata": {
        "id": "5VN0uTBIJjvZ",
        "colab_type": "code",
        "colab": {
          "base_uri": "https://localhost:8080/",
          "height": 33
        },
        "outputId": "914ea37f-6401-4e25-8710-7a3532d8d243"
      },
      "cell_type": "code",
      "source": [
        "from sklearn.externals import joblib\n",
        "\n",
        "joblib.dump(tfidf_vect, 'vectroizer.pkl')"
      ],
      "execution_count": 44,
      "outputs": [
        {
          "output_type": "execute_result",
          "data": {
            "text/plain": [
              "['vectroizer.pkl']"
            ]
          },
          "metadata": {
            "tags": []
          },
          "execution_count": 44
        }
      ]
    },
    {
      "metadata": {
        "id": "sQzn4Snn3X5S",
        "colab_type": "text"
      },
      "cell_type": "markdown",
      "source": [
        "# Evaluating Model Performance\n"
      ]
    },
    {
      "metadata": {
        "id": "R91cfK1k3c_j",
        "colab_type": "text"
      },
      "cell_type": "markdown",
      "source": [
        "I will investigate  different algorithms, and determine which is best at modeling the data."
      ]
    },
    {
      "metadata": {
        "id": "f46MgnEx3oh-",
        "colab_type": "text"
      },
      "cell_type": "markdown",
      "source": [
        "## Metrics and the Naive Predictor\n",
        "\n",
        "\n",
        "\n"
      ]
    },
    {
      "metadata": {
        "id": "TX2v8sUh4Ax3",
        "colab_type": "text"
      },
      "cell_type": "markdown",
      "source": [
        " Because of *Digisay* is particularly interested in predicting which links related to R7eem  accurately. It would seem that using accuracy as a metric for evaluating a particular model's performace would be appropriate. Therefore, a model's ability to precisely predict those which related to R7eem is more important than the model's ability to recall those not related. We can use F-beta score as a metric that considers both precision and recall:\n",
        "\n",
        "\n",
        "$$ F_{\\beta} = (1 + \\beta^2) \\cdot \\frac{precision \\cdot recall}{\\left( \\beta^2 \\cdot precision \\right) + recall} $$\n",
        "In particular, when $\\beta = 0.5$, more emphasis is placed on precision. This is called the <strong>F$_{0.5}$ score (or F-score for simplicity).\n",
        "\n",
        "It is always important to consider the naive prediction for your data, to help establish a benchmark for whether a model is performing well. using that prediction would be pointless: If we predicted all links not related , ML model would identify no linke as related."
      ]
    },
    {
      "metadata": {
        "id": "pI7f458Q8bC2",
        "colab_type": "code",
        "outputId": "77b1b68d-7a13-4b8e-8280-5f8590cbfc7d",
        "colab": {
          "base_uri": "https://localhost:8080/",
          "height": 33
        }
      },
      "cell_type": "code",
      "source": [
        "'''\n",
        "TP = np.sum(label) # Counting the ones as this is the naive case. \n",
        "FP = label.count() - TP # Specific to the naive case\n",
        "\n",
        "TN = 0 # No predicted negatives in the naive case\n",
        "FN = 0 # No predicted negatives in the naive case\n",
        "'''\n",
        "\n",
        "# Calculate ones in income (True postive) and zeroes \n",
        "TP = np.sum(label)\n",
        "FP = label.count() - TP \n",
        "TN = 0\n",
        "FN = 0\n",
        "\n",
        "# TODO: Calculate accuracy, precision and recall\n",
        "accuracy = TP /(TP + FP)\n",
        "recall = TP / (TP + FN)\n",
        "precision = TP / (TP + FP)\n",
        "\n",
        "# TODO: Calculate F-score using the formula above for beta = 0.5 and correct values for precision and recall.\n",
        "beta = 0.5\n",
        "fscore = (1 + beta**2)*((precision * recall) / ((beta**2 * precision) + recall))\n",
        "\n",
        "# Print the results \n",
        "print(\"Naive Predictor: [Accuracy score: {:.4f}, F-score: {:.4f}]\".format(accuracy, fscore))"
      ],
      "execution_count": 45,
      "outputs": [
        {
          "output_type": "stream",
          "text": [
            "Naive Predictor: [Accuracy score: 0.1341, F-score: 0.1621]\n"
          ],
          "name": "stdout"
        }
      ]
    },
    {
      "metadata": {
        "id": "UrwwKPN09PyD",
        "colab_type": "text"
      },
      "cell_type": "markdown",
      "source": [
        "# Supervised Learning Models\n"
      ]
    },
    {
      "metadata": {
        "id": "Twd84Bux9V1e",
        "colab_type": "text"
      },
      "cell_type": "markdown",
      "source": [
        "**The following are some of the supervised learning models that are currently available in scikit-learn that i will use:**\n",
        "\n"
      ]
    },
    {
      "metadata": {
        "id": "hv47Fi989xbC",
        "colab_type": "text"
      },
      "cell_type": "markdown",
      "source": [
        "**Gaussian Naive Bayes**\n",
        "\n",
        "* A classical use case is document classification: Determining whether a given (text) document corresponds to one or more categories and for classifying and filtering spam emails based on the likelihood of certain words appearing on an spam email as compared to a non-spam email\n",
        "\n",
        "* Strengths:\n",
        "\n",
        " * Easy to implement , Simple to run\n",
        " * If the NB conditional independence assumption holds, then it will converge quicker than discriminative models like logistic regression\n",
        " * Even if the NB assumption doesn’t hold, it works great in practice.\n",
        " * Less training data than others\n",
        " * Can be used for both binary and mult-iclass classification problems.\n",
        " * Performs pretty well\n",
        "* Weaknesses:\n",
        "\n",
        " * It can’t learn interactions between features (e.g., it can’t learn that although you love movies with Brad Pitt and Tom Cruise, you hate movies where they’re together).\n",
        " * Data scarcity For any possible value of a feature, you need to estimate a likelihood value by a frequentist approach. This can result in probabilities going towards 0 or 1, which in turn leads to numerical instabilities and worse results. In this case, you need to smooth in some way your probabilities (e.g. as in sklearn), or to impose some prior on your data, however you may argue that the resulting classifier is not naive anymore.\n",
        "* This particular model could be a good approach to solving the problem as we have a large data set with few features.\n",
        "\n",
        "* References:\n",
        " * [wikipedia](https://en.wikipedia.org/wiki/Naive_Bayes_spam_filtering)\n",
        " * [quora - real world applications for Naive Bayes classifier](https://www.quora.com/In-what-real-world-applications-is-Naive-Bayes-classifier-used)\n",
        " * [youtube- udacity - Naive Bayes Strengths and Weaknesses](https://www.youtube.com/watch?v=nfbKTrufPOs)\n",
        " * [quora - the advantages of using a naive Bayes for classification](https://www.quora.com/What-are-the-advantages-of-using-a-naive-Bayes-for-classification)\n",
        " * [quora - disadvantages of using a naive bayes for classification](https://www.quora.com/What-are-the-disadvantages-of-using-a-naive-bayes-for-classification#ypRbo)\n",
        "\n",
        "\n",
        "\n"
      ]
    },
    {
      "metadata": {
        "id": "rJAFJubJAGJN",
        "colab_type": "text"
      },
      "cell_type": "markdown",
      "source": [
        "**AdaBoost:**\n",
        "* A classic use case where AdaBoost algorithms is in the problem of Face Detection.\n",
        "\n",
        "* Strengths:\n",
        "\n",
        " * AdaBoost very simple to implement we can achieve similar classification results with much less tweaking of parameters or settings The user only needs to choose:\n",
        "\n",
        "   1. which weak classifier might work best to solve their given classification problem.\n",
        "   2. the number of boosting rounds that should be used during the training phase.\n",
        "   \n",
        " * Feature selection on very large sets of features.\n",
        "\n",
        "* Weaknesses\n",
        "\n",
        " * AdaBoost can be sensitive to noisy data and outliers. In some problems, however, it can be less susceptible to the overfitting problem than most learning algorithms. AdaBoost algorithm does not currently support null rejection, although this will be added at some point in the near future.\n",
        " * This particular model could be a good approach to solving the problem as we have a large data set so we can we can perform multiple quick trainining iterations to maximize our overall accuracy.\n",
        "\n",
        "* References:\n",
        " * [analyticsvidhya](https://www.analyticsvidhya.com/blog/2015/05/boosting-algorithms-simplified/)\n",
        " * [nickgillian](http://www.nickgillian.com/wiki/pmwiki.php/GRT/AdaBoost)\n",
        " * [slideshare - Machine learning with ADA Boost](https://www.slideshare.net/aman3001/machine-learning-with-ada-boost)"
      ]
    },
    {
      "metadata": {
        "id": "pzz2c0ZYBrkv",
        "colab_type": "text"
      },
      "cell_type": "markdown",
      "source": [
        "**Support Vector Machines (SVC)**\n",
        "\n",
        "* SVMs can be used to solve various real world problems:\n",
        "\n",
        " * SVMs are helpful in text and hypertext categorization as their application can significantly reduce the need for labeled training instances in both the standard inductive and transductive settings.\n",
        " * Face Detection.\n",
        "   * It classifies the parts of the image as face and non-face. It contains training data of n x n pixels with a two-class face (+1) and non-face (-1). Then it extracts features from each pixel as face or non-face. Creates a square boundary around faces on the basis of pixel brightness and classifies each image by using the same process.\n",
        " * Classification of images.\n",
        "   * Experimental results show that SVMs achieve significantly higher search accuracy than traditional query refinement schemes after just three to four rounds of relevance feedback.\n",
        " * Hand-written characters can be recognized\n",
        " Bioinformatics.\n",
        "\n",
        "* Strengths:\n",
        "\n",
        " * High accuracy\n",
        " * Nice theoretical guarantees regarding overfitting\n",
        " * With an appropriate kernel they can work well even if you’re data isn’t linearly separable in the base feature space.\n",
        "* Weaknesses:\n",
        "\n",
        " * Don't perform so well in very large data set because the training time happens to be cubic in size of data set.\n",
        " * Don't work very well in lots and lots of noise do when class are very overlapping you have to count independent evidence that's where the naive bayes classifier would be better.\n",
        " * The theory only really covers the determination of the parameters for a given value of the regularisation and kernel parameters and choice of kernel. In a way the SVM moves the problem of over-fitting from optimising the parameters to model selection. Sadly kernel models can be quite sensitive to over-fitting the model selection criterion.\n",
        " * The model could be still be a good candidate as there seems to be some features in the data that can more clearly define the income level boundary and dataset not very large so it won't take so long training time\n",
        "\n",
        "* References:\n",
        " * [wikipedia](https://en.wikipedia.org/wiki/Support_vector_machine#Applications)\n",
        " * [data-flair - Real-Life Applications of SVM](https://data-flair.training/blogs/applications-of-svm/)\n",
        " * [blog.echen.me](http://blog.echen.me/2011/04/27/choosing-a-machine-learning-classifier/)\n",
        " * [youtube - udacity - SVM Strengths and Weaknesses](https://www.youtube.com/watch?v=U9-ZsbaaGAs)\n",
        " * [stackexchange - Advantages and disadvantages of SVM](https://stats.stackexchange.com/questions/24437/advantages-and-disadvantages-of-svm)"
      ]
    },
    {
      "metadata": {
        "id": "mawhQFwWuiEY",
        "colab_type": "text"
      },
      "cell_type": "markdown",
      "source": [
        "# Implementation - Creating a Training and Predicting Pipeline\n",
        "To properly evaluate the performance of each model you've chosen, it's important to create a training and predicting pipeline that allows us to quickly and effectively train models using various sizes of training data and perform predictions on the testing data.  In the code block below, i will  implement the following:\n",
        "\n",
        "* Import fbeta_score and accuracy_score from sklearn.metrics.\n",
        "* Fit the learner to the sampled training data and record the training time.\n",
        "* Perform predictions on the test data X_test, and also on the first 300    training points X_train[:300].\n",
        "* Record the total prediction time.\n",
        "* Calculate the accuracy score for both the training subset and testing set.\n",
        "* Calculate the F-score for both the training subset and testing set.\n"
      ]
    },
    {
      "metadata": {
        "id": "Hvd00LmCBq6a",
        "colab_type": "code",
        "colab": {}
      },
      "cell_type": "code",
      "source": [
        "# Import two metrics from sklearn - fbeta_score and accuracy_score\n",
        "from sklearn.metrics import fbeta_score , accuracy_score\n",
        "\n",
        "def train_predict(learner, sample_size, X_train, y_train, X_test, y_test): \n",
        "    '''\n",
        "    inputs:\n",
        "       - learner: the learning algorithm to be trained and predicted on\n",
        "       - sample_size: the size of samples (number) to be drawn from training set\n",
        "       - X_train: features training set\n",
        "       - y_train: label training set\n",
        "       - X_test: features testing set\n",
        "       - y_test: label testing set\n",
        "    '''\n",
        "    \n",
        "    results = {}\n",
        "    \n",
        "    # Fit the learner to the training data using slicing with 'sample_size' using .fit(training_features[:], training_labels[:])\n",
        "    start = time() # Get start time\n",
        "    learner = learner.fit(X_train[: sample_size], y_train[: sample_size])\n",
        "    end = time() # Get end time\n",
        "    \n",
        "    # Calculate the training time\n",
        "    results['train_time'] = end - start\n",
        "        \n",
        "    # Get the predictions on the test set(X_test),\n",
        "    # then get predictions on the first 300 training samples(X_train) using .predict()\n",
        "    start = time() # Get start time\n",
        "    predictions_test = learner.predict(X_test)\n",
        "    predictions_train = learner.predict(X_train[:300])\n",
        "    end = time() # Get end time\n",
        "    \n",
        "    # Calculate the total prediction time\n",
        "    results['pred_time'] = end - start\n",
        "            \n",
        "    # Compute accuracy on the first 300 training samples which is y_train[:300]\n",
        "    results['acc_train'] = accuracy_score(y_train[:300], predictions_train)\n",
        "        \n",
        "    # Compute accuracy on test set using accuracy_score()\n",
        "    results['acc_test'] = accuracy_score(y_test, predictions_test)\n",
        "    \n",
        "    # Compute F-score on the the first 300 training samples using fbeta_score()\n",
        "    results['f_train'] = fbeta_score(y_train[:300], predictions_train, beta = 0.5)\n",
        "        \n",
        "    # Compute F-score on the test set which is y_test\n",
        "    results['f_test'] = fbeta_score(y_test, predictions_test, beta = 0.5)\n",
        "       \n",
        "    # Success\n",
        "    print(\"{} trained on {} samples.\".format(learner.__class__.__name__, sample_size))\n",
        "        \n",
        "    # Return the results\n",
        "    return results"
      ],
      "execution_count": 0,
      "outputs": []
    },
    {
      "metadata": {
        "id": "siGsU7B-G60x",
        "colab_type": "code",
        "colab": {}
      },
      "cell_type": "code",
      "source": [
        ""
      ],
      "execution_count": 0,
      "outputs": []
    },
    {
      "metadata": {
        "id": "vy5XHOjRvWre",
        "colab_type": "text"
      },
      "cell_type": "markdown",
      "source": [
        "# Implementation: Initial Model Evaluation\n",
        "\n",
        "In the code cell, i will  implement the following:\n",
        "\n",
        "* Import the three supervised learning models i've discussed in the previous section.\n",
        "* Initialize the three models and store them in 'clf_A', 'clf_B', and 'clf_C'.\n",
        "* Use a 'random_state' for each model i use.\n",
        "* Calculate the number of records equal to 1%, 10%, and 100% of the training data.\n",
        "* Store those values in 'samples_1', 'samples_10', and 'samples_100' respectively.\n"
      ]
    },
    {
      "metadata": {
        "colab_type": "code",
        "id": "ZYiBgTSZwpXh",
        "colab": {}
      },
      "cell_type": "code",
      "source": [
        "#visualization\n",
        "\n",
        "def evaluate(results, accuracy, f1):\n",
        "    \"\"\"\n",
        "    Visualization code to display results of various learners.\n",
        "    \n",
        "    inputs:\n",
        "      - learners: a list of supervised learners\n",
        "      - stats: a list of dictionaries of the statistic results from 'train_predict()'\n",
        "      - accuracy: The score for the naive predictor\n",
        "      - f1: The score for the naive predictor\n",
        "    \"\"\"\n",
        "  \n",
        "    # Create figure\n",
        "    fig, ax = pl.subplots(2, 4, figsize = (11,7))\n",
        "\n",
        "    # Constants\n",
        "    bar_width = 0.3\n",
        "    colors = ['#A00000','#00A0A0','#00A000']\n",
        "    \n",
        "    # Super loop to plot four panels of data\n",
        "    for k, learner in enumerate(results.keys()):\n",
        "        for j, metric in enumerate(['train_time', 'acc_train', 'f_train', 'pred_time', 'acc_test', 'f_test']):\n",
        "            for i in np.arange(3):\n",
        "                \n",
        "                # Creative plot code\n",
        "                ax[j//3, j%3].bar(i+k*bar_width, results[learner][i][metric], width = bar_width, color = colors[k])\n",
        "                ax[j//3, j%3].set_xticks([0.45, 1.45, 2.45])\n",
        "                ax[j//3, j%3].set_xticklabels([\"1%\", \"10%\", \"100%\"])\n",
        "                ax[j//3, j%3].set_xlabel(\"Training Set Size\")\n",
        "                ax[j//3, j%3].set_xlim((-0.1, 3.0))\n",
        "    \n",
        "    # Add unique y-labels\n",
        "    ax[0, 0].set_ylabel(\"Time (in seconds)\")\n",
        "    ax[0, 1].set_ylabel(\"Accuracy Score\")\n",
        "    ax[0, 2].set_ylabel(\"F-score\")\n",
        "    ax[1, 0].set_ylabel(\"Time (in seconds)\")\n",
        "    ax[1, 1].set_ylabel(\"Accuracy Score\")\n",
        "    ax[1, 2].set_ylabel(\"F-score\")\n",
        "    \n",
        "    # Add titles\n",
        "    ax[0, 0].set_title(\"Model Training\")\n",
        "    ax[0, 1].set_title(\"Accuracy Score on Training Subset\")\n",
        "    ax[0, 2].set_title(\"F-score on Training Subset\")\n",
        "    ax[1, 0].set_title(\"Model Predicting\")\n",
        "    ax[1, 1].set_title(\"Accuracy Score on Testing Set\")\n",
        "    ax[1, 2].set_title(\"F-score on Testing Set\")\n",
        "    \n",
        "    # Add horizontal lines for naive predictors\n",
        "    ax[0, 1].axhline(y = accuracy, xmin = -0.1, xmax = 3.0, linewidth = 1, color = 'k', linestyle = 'dashed')\n",
        "    ax[1, 1].axhline(y = accuracy, xmin = -0.1, xmax = 3.0, linewidth = 1, color = 'k', linestyle = 'dashed')\n",
        "    ax[0, 2].axhline(y = f1, xmin = -0.1, xmax = 3.0, linewidth = 1, color = 'k', linestyle = 'dashed')\n",
        "    ax[1, 2].axhline(y = f1, xmin = -0.1, xmax = 3.0, linewidth = 1, color = 'k', linestyle = 'dashed')\n",
        "    \n",
        "    # Set y-limits for score panels\n",
        "    ax[0, 1].set_ylim((0, 1))\n",
        "    ax[0, 2].set_ylim((0, 1))\n",
        "    ax[1, 1].set_ylim((0, 1))\n",
        "    ax[1, 2].set_ylim((0, 1))\n",
        "\n",
        "    # Set additional plots invisibles\n",
        "    ax[0, 3].set_visible(False)\n",
        "    ax[1, 3].axis('off')\n",
        "\n",
        "    # Create legend\n",
        "    for i, learner in enumerate(results.keys()):\n",
        "        pl.bar(0, 0, color=colors[i], label=learner)\n",
        "    pl.legend()\n",
        "    \n",
        "    # Aesthetics\n",
        "    pl.suptitle(\"Performance Metrics for Three Supervised Learning Models\", fontsize = 16, y = 1.10)\n",
        "    pl.tight_layout()\n",
        "    pl.show()"
      ],
      "execution_count": 0,
      "outputs": []
    },
    {
      "metadata": {
        "id": "WbEs-FbzucGd",
        "colab_type": "code",
        "outputId": "dda7804d-87bd-434a-ee21-ecefd055a6fd",
        "colab": {
          "base_uri": "https://localhost:8080/",
          "height": 811
        }
      },
      "cell_type": "code",
      "source": [
        "# Import the  supervised learning models from sklearn\n",
        "from sklearn.naive_bayes import GaussianNB\n",
        "from sklearn.ensemble import AdaBoostClassifier\n",
        "from sklearn.svm import SVC\n",
        "from sklearn.ensemble import RandomForestClassifier, GradientBoostingClassifier\n",
        "\n",
        "from time import time\n",
        "import matplotlib.pyplot as pl\n",
        "\n",
        "# Initialize the three models\n",
        "clf_A = GaussianNB()\n",
        "clf_B = AdaBoostClassifier(random_state = 1)\n",
        "clf_C = SVC(random_state = 1)\n",
        "\n",
        "# Calculate the number of samples for 1%, 10%, and 100% of the training data\n",
        "samples_100 = len(y_train)\n",
        "samples_10 = len(y_train)//10\n",
        "samples_1 = len(y_train)//100\n",
        "\n",
        "# Collect results on the learners\n",
        "results = {}\n",
        "for clf in [clf_A, clf_B, clf_C]:\n",
        "    clf_name = clf.__class__.__name__\n",
        "    results[clf_name] = {}\n",
        "    for i, samples in enumerate([samples_1, samples_10, samples_100]):\n",
        "        results[clf_name][i] = \\\n",
        "        train_predict(clf, samples, X_train_vect, y_train, X_test_vect, y_test)\n",
        "\n",
        "# Run metrics visualization for the three supervised learning models chosen\n",
        "evaluate(results, accuracy, fscore)"
      ],
      "execution_count": 48,
      "outputs": [
        {
          "output_type": "stream",
          "text": [
            "/usr/local/lib/python3.6/dist-packages/sklearn/ensemble/weight_boosting.py:29: DeprecationWarning: numpy.core.umath_tests is an internal NumPy module and should not be imported. It will be removed in a future NumPy release.\n",
            "  from numpy.core.umath_tests import inner1d\n"
          ],
          "name": "stderr"
        },
        {
          "output_type": "stream",
          "text": [
            "GaussianNB trained on 44 samples.\n",
            "GaussianNB trained on 445 samples.\n",
            "GaussianNB trained on 4457 samples.\n",
            "AdaBoostClassifier trained on 44 samples.\n",
            "AdaBoostClassifier trained on 445 samples.\n",
            "AdaBoostClassifier trained on 4457 samples.\n",
            "SVC trained on 44 samples.\n",
            "SVC trained on 445 samples.\n"
          ],
          "name": "stdout"
        },
        {
          "output_type": "stream",
          "text": [
            "/usr/local/lib/python3.6/dist-packages/sklearn/metrics/classification.py:1135: UndefinedMetricWarning: F-score is ill-defined and being set to 0.0 due to no predicted samples.\n",
            "  'precision', 'predicted', average, warn_for)\n"
          ],
          "name": "stderr"
        },
        {
          "output_type": "stream",
          "text": [
            "SVC trained on 4457 samples.\n"
          ],
          "name": "stdout"
        },
        {
          "output_type": "display_data",
          "data": {
            "image/png": "[encoded data removed]",
            "text/plain": [
              "<matplotlib.figure.Figure at 0x7f54245aab00>"
            ]
          },
          "metadata": {
            "tags": []
          }
        }
      ]
    },
    {
      "metadata": {
        "id": "SuR52zQ8Hue3",
        "colab_type": "text"
      },
      "cell_type": "markdown",
      "source": [
        "# Choosing the Best Model\n",
        "- The most appropriate solution to this problem would be achieved using AdaBoostClassifier .\n",
        " - In terms of the F-score, Adaboost slightly outperforms SVC at all training set sizes and significately outperforms GaussianNB.\n",
        " - In terms of the time Both the Adaboost and the GaussianNB algorithms are capable of both training on the entire data set and quickly performing predictions.\n",
        " - In terms of the accuracies at all training and testing set sizes Adaboost are significantly higher than those obtained when using the GuassianNB algorithm and as high as those ahieved by the more complex SVC model.\n",
        "- For this reasons we can say that Adaboost is best suited for this problem. We will be able to fully utilize the entire dataset to maximize the performance in the unseen data without compromising on training and testing the speeds.and will give us accurate result for spam message"
      ]
    },
    {
      "metadata": {
        "id": "onpuEkv70t6l",
        "colab_type": "text"
      },
      "cell_type": "markdown",
      "source": [
        "# Implementation: Model Tuning\n"
      ]
    },
    {
      "metadata": {
        "id": "xKoMzDkT0m2h",
        "colab_type": "code",
        "outputId": "84bdc554-18cb-4bae-8d2e-3a2abe784f4e",
        "colab": {
          "base_uri": "https://localhost:8080/",
          "height": 220
        }
      },
      "cell_type": "code",
      "source": [
        "# Import 'GridSearchCV', 'make_scorer', and any other necessary libraries\n",
        "from sklearn.grid_search import GridSearchCV\n",
        "from sklearn.metrics import fbeta_score, make_scorer\n",
        "\n",
        "# Initialize the classifier\n",
        "clf = AdaBoostClassifier(random_state=1)\n",
        "\n",
        "parameters = {'n_estimators' : [50, 100, 150, 250, 500], 'learning_rate': [0.01, 0.1, 1, 1.5, 2]}\n",
        "\n",
        "# Make an fbeta_score scoring object using make_scorer()\n",
        "scorer =make_scorer(fbeta_score, beta= 0.5)\n",
        "\n",
        "# Perform grid search on the classifier using 'scorer' as the scoring method using GridSearchCV()\n",
        "grid_obj = GridSearchCV(clf, parameters, scoring=scorer)\n",
        "\n",
        "# Fit the grid search object to the training data and find the optimal parameters using fit()\n",
        "grid_fit = grid_obj.fit(X_train_vect, y_train)\n",
        "\n",
        "# Get the estimator\n",
        "best_clf = grid_fit.best_estimator_\n",
        "\n",
        "# Make predictions using the unoptimized and model\n",
        "predictions = (clf.fit(X_train_vect, y_train)).predict(X_test_vect)\n",
        "best_predictions = best_clf.predict(X_test_vect)\n",
        "\n",
        "# Report the before-and-afterscores\n",
        "print(\"Unoptimized model\\n------\")\n",
        "print(\"Accuracy score on testing data: {:.4f}\".format(accuracy_score(y_test, predictions)))\n",
        "print(\"F-score on testing data: {:.4f}\".format(fbeta_score(y_test, predictions, beta = 0.5)))\n",
        "print(\"\\nOptimized Model\\n------\")\n",
        "print(\"Final accuracy score on the testing data: {:.4f}\".format(accuracy_score(y_test, best_predictions)))\n",
        "print(\"Final F-score on the testing data: {:.4f}\".format(fbeta_score(y_test, best_predictions, beta = 0.5)))"
      ],
      "execution_count": 49,
      "outputs": [
        {
          "output_type": "stream",
          "text": [
            "/usr/local/lib/python3.6/dist-packages/sklearn/grid_search.py:42: DeprecationWarning: This module was deprecated in version 0.18 in favor of the model_selection module into which all the refactored classes and functions are moved. This module will be removed in 0.20.\n",
            "  DeprecationWarning)\n"
          ],
          "name": "stderr"
        },
        {
          "output_type": "stream",
          "text": [
            "Unoptimized model\n",
            "------\n",
            "Accuracy score on testing data: 0.9821\n",
            "F-score on testing data: 0.9574\n",
            "\n",
            "Optimized Model\n",
            "------\n",
            "Final accuracy score on the testing data: 0.9785\n",
            "Final F-score on the testing data: 0.9583\n"
          ],
          "name": "stdout"
        }
      ]
    },
    {
      "metadata": {
        "id": "wI7Q2nuoJ3LK",
        "colab_type": "code",
        "colab": {
          "base_uri": "https://localhost:8080/",
          "height": 50
        },
        "outputId": "d6ac3307-e5d5-4e3d-95a1-c67bfc209053"
      },
      "cell_type": "code",
      "source": [
        "display(grid_fit.best_estimator_)"
      ],
      "execution_count": 55,
      "outputs": [
        {
          "output_type": "display_data",
          "data": {
            "text/plain": [
              "AdaBoostClassifier(algorithm='SAMME.R', base_estimator=None,\n",
              "          learning_rate=0.1, n_estimators=100, random_state=1)"
            ]
          },
          "metadata": {
            "tags": []
          }
        }
      ]
    },
    {
      "metadata": {
        "id": "uNPK-hJ02TCM",
        "colab_type": "text"
      },
      "cell_type": "markdown",
      "source": [
        "# Implementation\n"
      ]
    },
    {
      "metadata": {
        "id": "Xop3PFQW2eAi",
        "colab_type": "code",
        "outputId": "fc143516-cdfd-4c52-c48f-20729dc4c2f9",
        "colab": {
          "base_uri": "https://localhost:8080/",
          "height": 33
        }
      },
      "cell_type": "code",
      "source": [
        "#Train the model on the training set using .fit(X_train_vect, y_train)\n",
        "model = AdaBoostClassifier(algorithm='SAMME.R', base_estimator=None,\n",
        "          learning_rate=0.1, n_estimators=100, random_state=1)\n",
        "start = time()\n",
        "model.fit(X_train_vect, y_train)\n",
        "end = time()\n",
        "fit_time = (end - start)\n",
        "start = time()\n",
        "y_pred = model.predict(X_test_vect)\n",
        "end = time()\n",
        "pred_time = (end - start)\n",
        "\n",
        "recision, recall, fscore, train_support = score(y_test, y_pred)\n",
        "print('Fit time: {} / Predict time: {} ---- Precision: {} / Recall: {} / Accuracy: {}'.format(\n",
        "    np.round(fit_time, 3), np.round(pred_time, 3), np.round(precision, 3), np.round(recall, 3), np.round((y_pred==y_test).sum()/len(y_pred), 3)))\n"
      ],
      "execution_count": 59,
      "outputs": [
        {
          "output_type": "stream",
          "text": [
            "Fit time: 1.469 / Predict time: 0.022 ---- Precision: 0.134 / Recall: [0.998 0.862] / Accuracy: 0.978\n"
          ],
          "name": "stdout"
        }
      ]
    },
    {
      "metadata": {
        "id": "5Zm5Nj7_Cccv",
        "colab_type": "text"
      },
      "cell_type": "markdown",
      "source": [
        "# Save model"
      ]
    },
    {
      "metadata": {
        "id": "efAXmUR8KKu7",
        "colab_type": "code",
        "colab": {
          "base_uri": "https://localhost:8080/",
          "height": 33
        },
        "outputId": "58207941-e7d3-4505-85cf-d0254f27710d"
      },
      "cell_type": "code",
      "source": [
        "# Save to file in the current working directory\n",
        "joblib_file = \"joblib_model.pkl\"  \n",
        "joblib.dump(model, joblib_file)\n"
      ],
      "execution_count": 60,
      "outputs": [
        {
          "output_type": "execute_result",
          "data": {
            "text/plain": [
              "['joblib_model.pkl']"
            ]
          },
          "metadata": {
            "tags": []
          },
          "execution_count": 60
        }
      ]
    },
    {
      "metadata": {
        "id": "8DsqZ90sELKO",
        "colab_type": "text"
      },
      "cell_type": "markdown",
      "source": [
        "# Test model"
      ]
    },
    {
      "metadata": {
        "id": "_xUlJ2KdK-UY",
        "colab_type": "code",
        "colab": {
          "base_uri": "https://localhost:8080/",
          "height": 33
        },
        "outputId": "6a2f8c8f-ae11-4812-c809-1f1bcbf7c4d0"
      },
      "cell_type": "code",
      "source": [
        "joblib_file = \"joblib_model.pkl\"  \n",
        "\n",
        "joblib_model = joblib.load(joblib_file)\n",
        "\n",
        "# Calculate the accuracy and predictions\n",
        "score = joblib_model.score(X_test_vect, y_test)  \n",
        "print(\"Test score: {0:.2f} %\".format(100 * score))  \n",
        "Ypredict = joblib_model.predict(X_test_vect)  \n"
      ],
      "execution_count": 61,
      "outputs": [
        {
          "output_type": "stream",
          "text": [
            "Test score: 97.85 %\n"
          ],
          "name": "stdout"
        }
      ]
    },
    {
      "metadata": {
        "id": "B_ayDYCpLs-o",
        "colab_type": "text"
      },
      "cell_type": "markdown",
      "source": [
        "# Now we will test new data"
      ]
    },
    {
      "metadata": {
        "id": "4saljEjWL1KC",
        "colab_type": "code",
        "colab": {}
      },
      "cell_type": "code",
      "source": [
        "def prep_text(mesg):\n",
        "  text = remove_punct(mesg)\n",
        "  data = pd.DataFrame({'body_text' : text}, index=[0])\n",
        "  data['tokens'] = data['body_text'].apply(lambda x: toknize(x))\n",
        "  data['text_nostop'] = data['tokens'].apply(lambda x: remove_stopwords(x))\n",
        "  data['text_lemmatized'] = data['text_nostop'].apply(lambda x: lemmatizing(x))\n",
        "  data['body_len'] = data['body_text'].apply(lambda x: len(x) - x.count(\" \"))\n",
        "  data['punct%'] = data['body_text'].apply(lambda x: count_punct(x))\n",
        "  return data\n",
        "  \n",
        "  \n",
        "  "
      ],
      "execution_count": 0,
      "outputs": []
    },
    {
      "metadata": {
        "id": "PwiovhIOXxns",
        "colab_type": "code",
        "colab": {}
      },
      "cell_type": "code",
      "source": [
        "# ham msg\n",
        "msg = \"\"\"As per your request 'Melle Melle (Oru Minnaminunginte Nurungu Vettam)' has been set as your callertune for all Callers. Press *9 to copy your friends Callertune\"\"\""
      ],
      "execution_count": 0,
      "outputs": []
    },
    {
      "metadata": {
        "id": "advVFB96OJyp",
        "colab_type": "code",
        "colab": {
          "base_uri": "https://localhost:8080/",
          "height": 127
        },
        "outputId": "cfcbab6f-a40a-4bfc-861d-26ef3e994b24"
      },
      "cell_type": "code",
      "source": [
        "data_prep = prep_text(msg)\n",
        "display(data_prep)"
      ],
      "execution_count": 64,
      "outputs": [
        {
          "output_type": "display_data",
          "data": {
            "text/html": [
              "<div>\n",
              "<style scoped>\n",
              "    .dataframe tbody tr th:only-of-type {\n",
              "        vertical-align: middle;\n",
              "    }\n",
              "\n",
              "    .dataframe tbody tr th {\n",
              "        vertical-align: top;\n",
              "    }\n",
              "\n",
              "    .dataframe thead th {\n",
              "        text-align: right;\n",
              "    }\n",
              "</style>\n",
              "<table border=\"1\" class=\"dataframe\">\n",
              "  <thead>\n",
              "    <tr style=\"text-align: right;\">\n",
              "      <th></th>\n",
              "      <th>body_text</th>\n",
              "      <th>tokens</th>\n",
              "      <th>text_nostop</th>\n",
              "      <th>text_lemmatized</th>\n",
              "      <th>body_len</th>\n",
              "      <th>punct%</th>\n",
              "    </tr>\n",
              "  </thead>\n",
              "  <tbody>\n",
              "    <tr>\n",
              "      <th>0</th>\n",
              "      <td>as per your request melle melle oru minnaminunginte nurungu vettam has been set as your callertu...</td>\n",
              "      <td>[as, per, your, request, melle, melle, oru, minnaminunginte, nurungu, vettam, has, been, set, as...</td>\n",
              "      <td>[request, melle, melle, oru, minnaminunginte, nurungu, vettam, set, callertune, callers, press, ...</td>\n",
              "      <td>[request, melle, melle, oru, minnaminunginte, nurungu, vettam, set, callertune, caller, press, 9...</td>\n",
              "      <td>129</td>\n",
              "      <td>0.0</td>\n",
              "    </tr>\n",
              "  </tbody>\n",
              "</table>\n",
              "</div>"
            ],
            "text/plain": [
              "                                                                                             body_text  \\\n",
              "0  as per your request melle melle oru minnaminunginte nurungu vettam has been set as your callertu...   \n",
              "\n",
              "                                                                                                tokens  \\\n",
              "0  [as, per, your, request, melle, melle, oru, minnaminunginte, nurungu, vettam, has, been, set, as...   \n",
              "\n",
              "                                                                                           text_nostop  \\\n",
              "0  [request, melle, melle, oru, minnaminunginte, nurungu, vettam, set, callertune, callers, press, ...   \n",
              "\n",
              "                                                                                       text_lemmatized  \\\n",
              "0  [request, melle, melle, oru, minnaminunginte, nurungu, vettam, set, callertune, caller, press, 9...   \n",
              "\n",
              "   body_len  punct%  \n",
              "0       129     0.0  "
            ]
          },
          "metadata": {
            "tags": []
          }
        }
      ]
    },
    {
      "metadata": {
        "id": "cSF-MBiJRRQ4",
        "colab_type": "code",
        "colab": {
          "base_uri": "https://localhost:8080/",
          "height": 127
        },
        "outputId": "430697ee-6f59-4057-fee3-f224813fda61"
      },
      "cell_type": "code",
      "source": [
        "file = 'scalr.pkl'\n",
        "scaler = joblib.load(file) \n",
        "numerical = ['body_len',  'punct%']\n",
        "data_prep[numerical] = scaler.transform(data_prep[numerical])\n",
        "\n",
        "display(data_prep)"
      ],
      "execution_count": 65,
      "outputs": [
        {
          "output_type": "display_data",
          "data": {
            "text/html": [
              "<div>\n",
              "<style scoped>\n",
              "    .dataframe tbody tr th:only-of-type {\n",
              "        vertical-align: middle;\n",
              "    }\n",
              "\n",
              "    .dataframe tbody tr th {\n",
              "        vertical-align: top;\n",
              "    }\n",
              "\n",
              "    .dataframe thead th {\n",
              "        text-align: right;\n",
              "    }\n",
              "</style>\n",
              "<table border=\"1\" class=\"dataframe\">\n",
              "  <thead>\n",
              "    <tr style=\"text-align: right;\">\n",
              "      <th></th>\n",
              "      <th>body_text</th>\n",
              "      <th>tokens</th>\n",
              "      <th>text_nostop</th>\n",
              "      <th>text_lemmatized</th>\n",
              "      <th>body_len</th>\n",
              "      <th>punct%</th>\n",
              "    </tr>\n",
              "  </thead>\n",
              "  <tbody>\n",
              "    <tr>\n",
              "      <th>0</th>\n",
              "      <td>as per your request melle melle oru minnaminunginte nurungu vettam has been set as your callertu...</td>\n",
              "      <td>[as, per, your, request, melle, melle, oru, minnaminunginte, nurungu, vettam, has, been, set, as...</td>\n",
              "      <td>[request, melle, melle, oru, minnaminunginte, nurungu, vettam, set, callertune, callers, press, ...</td>\n",
              "      <td>[request, melle, melle, oru, minnaminunginte, nurungu, vettam, set, callertune, caller, press, 9...</td>\n",
              "      <td>0.172087</td>\n",
              "      <td>0.0</td>\n",
              "    </tr>\n",
              "  </tbody>\n",
              "</table>\n",
              "</div>"
            ],
            "text/plain": [
              "                                                                                             body_text  \\\n",
              "0  as per your request melle melle oru minnaminunginte nurungu vettam has been set as your callertu...   \n",
              "\n",
              "                                                                                                tokens  \\\n",
              "0  [as, per, your, request, melle, melle, oru, minnaminunginte, nurungu, vettam, has, been, set, as...   \n",
              "\n",
              "                                                                                           text_nostop  \\\n",
              "0  [request, melle, melle, oru, minnaminunginte, nurungu, vettam, set, callertune, callers, press, ...   \n",
              "\n",
              "                                                                                       text_lemmatized  \\\n",
              "0  [request, melle, melle, oru, minnaminunginte, nurungu, vettam, set, callertune, caller, press, 9...   \n",
              "\n",
              "   body_len  punct%  \n",
              "0  0.172087     0.0  "
            ]
          },
          "metadata": {
            "tags": []
          }
        }
      ]
    },
    {
      "metadata": {
        "id": "SUeTsSuoV21k",
        "colab_type": "code",
        "colab": {
          "base_uri": "https://localhost:8080/",
          "height": 106
        },
        "outputId": "89182bdc-3784-4eb0-d61f-b0ffb576ab78"
      },
      "cell_type": "code",
      "source": [
        "vectorizer = joblib.load('vectroizer.pkl')\n",
        "tfidf_msg_pred = vectorizer.transform(data_prep['text_lemmatized'])\n",
        "X_pred_vect = pd.concat([data_prep[['body_len', 'punct%']].reset_index(drop=True), \n",
        "           pd.DataFrame(tfidf_msg_pred.toarray())], axis=1)\n",
        "\n",
        "display(X_pred_vect.head())\n"
      ],
      "execution_count": 66,
      "outputs": [
        {
          "output_type": "display_data",
          "data": {
            "text/html": [
              "<div>\n",
              "<style scoped>\n",
              "    .dataframe tbody tr th:only-of-type {\n",
              "        vertical-align: middle;\n",
              "    }\n",
              "\n",
              "    .dataframe tbody tr th {\n",
              "        vertical-align: top;\n",
              "    }\n",
              "\n",
              "    .dataframe thead th {\n",
              "        text-align: right;\n",
              "    }\n",
              "</style>\n",
              "<table border=\"1\" class=\"dataframe\">\n",
              "  <thead>\n",
              "    <tr style=\"text-align: right;\">\n",
              "      <th></th>\n",
              "      <th>body_len</th>\n",
              "      <th>punct%</th>\n",
              "      <th>0</th>\n",
              "      <th>1</th>\n",
              "      <th>2</th>\n",
              "      <th>3</th>\n",
              "      <th>4</th>\n",
              "      <th>5</th>\n",
              "      <th>6</th>\n",
              "      <th>7</th>\n",
              "      <th>...</th>\n",
              "      <th>34</th>\n",
              "      <th>35</th>\n",
              "      <th>36</th>\n",
              "      <th>37</th>\n",
              "      <th>38</th>\n",
              "      <th>39</th>\n",
              "      <th>40</th>\n",
              "      <th>41</th>\n",
              "      <th>42</th>\n",
              "      <th>43</th>\n",
              "    </tr>\n",
              "  </thead>\n",
              "  <tbody>\n",
              "    <tr>\n",
              "      <th>0</th>\n",
              "      <td>0.172087</td>\n",
              "      <td>0.0</td>\n",
              "      <td>0.285861</td>\n",
              "      <td>0.597092</td>\n",
              "      <td>0.285861</td>\n",
              "      <td>0.0</td>\n",
              "      <td>0.0</td>\n",
              "      <td>0.0</td>\n",
              "      <td>0.0</td>\n",
              "      <td>0.0</td>\n",
              "      <td>...</td>\n",
              "      <td>0.044108</td>\n",
              "      <td>0.0</td>\n",
              "      <td>0.0</td>\n",
              "      <td>0.031731</td>\n",
              "      <td>0.0</td>\n",
              "      <td>0.0</td>\n",
              "      <td>0.0</td>\n",
              "      <td>0.0</td>\n",
              "      <td>0.0</td>\n",
              "      <td>0.0</td>\n",
              "    </tr>\n",
              "  </tbody>\n",
              "</table>\n",
              "<p>1 rows × 46 columns</p>\n",
              "</div>"
            ],
            "text/plain": [
              "   body_len  punct%         0         1         2    3    4    5    6    7  \\\n",
              "0  0.172087     0.0  0.285861  0.597092  0.285861  0.0  0.0  0.0  0.0  0.0   \n",
              "\n",
              "  ...         34   35   36        37   38   39   40   41   42   43  \n",
              "0 ...   0.044108  0.0  0.0  0.031731  0.0  0.0  0.0  0.0  0.0  0.0  \n",
              "\n",
              "[1 rows x 46 columns]"
            ]
          },
          "metadata": {
            "tags": []
          }
        }
      ]
    },
    {
      "metadata": {
        "id": "NqvLDyh9WvDo",
        "colab_type": "code",
        "colab": {
          "base_uri": "https://localhost:8080/",
          "height": 33
        },
        "outputId": "efdc75d0-5da9-48b6-db98-c85b7cd1732c"
      },
      "cell_type": "code",
      "source": [
        "try:\n",
        "    Ypredict = joblib_model.predict(X_pred_vect)\n",
        "    if Ypredict[0] == 0:\n",
        "       print(\"msg is ham\")\n",
        "    elif Ypredict[0] == 1:\n",
        "        print(\"msg is spam\")\n",
        "except Exception as e:\n",
        "  print(e)\n"
      ],
      "execution_count": 67,
      "outputs": [
        {
          "output_type": "stream",
          "text": [
            "msg is ham\n"
          ],
          "name": "stdout"
        }
      ]
    },
    {
      "metadata": {
        "id": "nB9SerksacSU",
        "colab_type": "text"
      },
      "cell_type": "markdown",
      "source": [
        "#Embedded this model in flask app\n",
        "\n",
        "- i will embedded this model in flask app in few days and i'll put code in my github"
      ]
    },
    {
      "metadata": {
        "id": "XQVewF-9bCtr",
        "colab_type": "text"
      },
      "cell_type": "markdown",
      "source": [
        "# conclusion\n",
        "As we see we have messy data so we try to make it tidy as possible to make it suitable for ML algorithms\n",
        "- i use spacy which an open-source software library for advanced Natural Language Processing to split text in to words .\n",
        "- then convert this words to numbers\n",
        "- i try some algorithms and choose the best one\n",
        "- AdaBoost is short for Adaptive Boosting. It is basically a machine learning algorithm that is used as a classifier. Whenever you have a large amount of data and you want divide it into different categories, we need a good classification algorithm to do it. Problems in machine learning tend to suffer from the curse of dimensionality. What it means is that a single feature point ends up having a huge dimensionality. As in, the feature vector used to describe a particular thing can be very huge. So if each sample consists of a huge number of potential features, the overall system becomes very slow. This is the reason we cannot use a powerful model with a full feature set because it cannot run in real time. We can only afford to have simple machine learning algorithms. But if the algorithms are too simple, they tend to be less accurate. They are called ‘weak learners’\n",
        "\n",
        "- Boosting algorithms typically work by solving subsections of the problem, by peeling them away so future boosting iterations can solve the remaining sections.\n",
        "\n",
        "- imagine we have some questions in different fields(math, physics , chemistry)i ask my friend who proficient in math to answer this questions after he answer i'm sure he answer math questions very well but i'm not sure about other questions so we go to another friend who proficient in physics and ask him to answer the questions like before i'm sure he answer physics questions very well but i'm not sure about other questions but now i have one can give me right answer for math questions and one who can give me right answer for physics questions this is better than before. now i want one who is proficient in chemistryfor our luck my friend's brother is thr right guy so i ask him to answer the questions so now each group of my questions is completely solved.\n",
        "- The takeaway is that weak learners are best combined in a way that allows each one to solve a limited section of the problem. Any machine learning routine can be used as a weak learner. Neural nets, support vector machines or any other would work, but the most commonly used weak learner is the decision tree.\n",
        "- so in our model it combines the outputs from weak learner and creates a strong learner which eventually improves the prediction power of the model. Boosting pays higher focus on examples which are mis-classiﬁed or have higher errors by preceding weak rules.\n",
        "\n",
        "\n",
        "\n"
      ]
    }
  ]
}